{
 "cells": [
  {
   "cell_type": "code",
   "execution_count": 1,
   "id": "74d25e1d",
   "metadata": {},
   "outputs": [],
   "source": [
    "import pandas as pd\n",
    "import numpy as np"
   ]
  },
  {
   "cell_type": "code",
   "execution_count": 2,
   "id": "dfd8dff5",
   "metadata": {},
   "outputs": [
    {
     "ename": "FileNotFoundError",
     "evalue": "[Errno 2] No such file or directory: 'monday.csv'",
     "output_type": "error",
     "traceback": [
      "\u001b[0;31m---------------------------------------------------------------------------\u001b[0m",
      "\u001b[0;31mFileNotFoundError\u001b[0m                         Traceback (most recent call last)",
      "\u001b[0;32m/tmp/ipykernel_12044/3095098079.py\u001b[0m in \u001b[0;36m<module>\u001b[0;34m\u001b[0m\n\u001b[1;32m      1\u001b[0m \u001b[0;31m#read files\u001b[0m\u001b[0;34m\u001b[0m\u001b[0;34m\u001b[0m\u001b[0m\n\u001b[0;32m----> 2\u001b[0;31m \u001b[0mmonday\u001b[0m \u001b[0;34m=\u001b[0m \u001b[0mpd\u001b[0m\u001b[0;34m.\u001b[0m\u001b[0mread_csv\u001b[0m\u001b[0;34m(\u001b[0m\u001b[0;34m'monday.csv'\u001b[0m\u001b[0;34m,\u001b[0m \u001b[0msep\u001b[0m\u001b[0;34m=\u001b[0m\u001b[0;34m';'\u001b[0m\u001b[0;34m,\u001b[0m \u001b[0mparse_dates\u001b[0m\u001b[0;34m=\u001b[0m\u001b[0;32mTrue\u001b[0m\u001b[0;34m,\u001b[0m \u001b[0mindex_col\u001b[0m\u001b[0;34m=\u001b[0m\u001b[0;36m0\u001b[0m\u001b[0;34m)\u001b[0m\u001b[0;34m\u001b[0m\u001b[0;34m\u001b[0m\u001b[0m\n\u001b[0m\u001b[1;32m      3\u001b[0m \u001b[0mtuesday\u001b[0m \u001b[0;34m=\u001b[0m \u001b[0mpd\u001b[0m\u001b[0;34m.\u001b[0m\u001b[0mread_csv\u001b[0m\u001b[0;34m(\u001b[0m\u001b[0;34m'tuesday.csv'\u001b[0m\u001b[0;34m,\u001b[0m \u001b[0msep\u001b[0m\u001b[0;34m=\u001b[0m\u001b[0;34m';'\u001b[0m\u001b[0;34m,\u001b[0m \u001b[0mparse_dates\u001b[0m\u001b[0;34m=\u001b[0m\u001b[0;32mTrue\u001b[0m\u001b[0;34m,\u001b[0m \u001b[0mindex_col\u001b[0m\u001b[0;34m=\u001b[0m\u001b[0;36m0\u001b[0m\u001b[0;34m)\u001b[0m\u001b[0;34m\u001b[0m\u001b[0;34m\u001b[0m\u001b[0m\n\u001b[1;32m      4\u001b[0m \u001b[0mwednesday\u001b[0m \u001b[0;34m=\u001b[0m \u001b[0mpd\u001b[0m\u001b[0;34m.\u001b[0m\u001b[0mread_csv\u001b[0m\u001b[0;34m(\u001b[0m\u001b[0;34m'wednesday.csv'\u001b[0m\u001b[0;34m,\u001b[0m \u001b[0msep\u001b[0m\u001b[0;34m=\u001b[0m\u001b[0;34m';'\u001b[0m\u001b[0;34m,\u001b[0m\u001b[0mparse_dates\u001b[0m\u001b[0;34m=\u001b[0m\u001b[0;32mTrue\u001b[0m\u001b[0;34m,\u001b[0m \u001b[0mindex_col\u001b[0m\u001b[0;34m=\u001b[0m\u001b[0;36m0\u001b[0m\u001b[0;34m)\u001b[0m\u001b[0;34m\u001b[0m\u001b[0;34m\u001b[0m\u001b[0m\n\u001b[1;32m      5\u001b[0m \u001b[0mthursday\u001b[0m \u001b[0;34m=\u001b[0m \u001b[0mpd\u001b[0m\u001b[0;34m.\u001b[0m\u001b[0mread_csv\u001b[0m\u001b[0;34m(\u001b[0m\u001b[0;34m'thursday.csv'\u001b[0m\u001b[0;34m,\u001b[0m \u001b[0msep\u001b[0m\u001b[0;34m=\u001b[0m\u001b[0;34m';'\u001b[0m\u001b[0;34m,\u001b[0m \u001b[0mparse_dates\u001b[0m\u001b[0;34m=\u001b[0m\u001b[0;32mTrue\u001b[0m\u001b[0;34m,\u001b[0m \u001b[0mindex_col\u001b[0m\u001b[0;34m=\u001b[0m\u001b[0;36m0\u001b[0m\u001b[0;34m)\u001b[0m\u001b[0;34m\u001b[0m\u001b[0;34m\u001b[0m\u001b[0m\n",
      "\u001b[0;32m~/anaconda3/lib/python3.9/site-packages/pandas/util/_decorators.py\u001b[0m in \u001b[0;36mwrapper\u001b[0;34m(*args, **kwargs)\u001b[0m\n\u001b[1;32m    309\u001b[0m                     \u001b[0mstacklevel\u001b[0m\u001b[0;34m=\u001b[0m\u001b[0mstacklevel\u001b[0m\u001b[0;34m,\u001b[0m\u001b[0;34m\u001b[0m\u001b[0;34m\u001b[0m\u001b[0m\n\u001b[1;32m    310\u001b[0m                 )\n\u001b[0;32m--> 311\u001b[0;31m             \u001b[0;32mreturn\u001b[0m \u001b[0mfunc\u001b[0m\u001b[0;34m(\u001b[0m\u001b[0;34m*\u001b[0m\u001b[0margs\u001b[0m\u001b[0;34m,\u001b[0m \u001b[0;34m**\u001b[0m\u001b[0mkwargs\u001b[0m\u001b[0;34m)\u001b[0m\u001b[0;34m\u001b[0m\u001b[0;34m\u001b[0m\u001b[0m\n\u001b[0m\u001b[1;32m    312\u001b[0m \u001b[0;34m\u001b[0m\u001b[0m\n\u001b[1;32m    313\u001b[0m         \u001b[0;32mreturn\u001b[0m \u001b[0mwrapper\u001b[0m\u001b[0;34m\u001b[0m\u001b[0;34m\u001b[0m\u001b[0m\n",
      "\u001b[0;32m~/anaconda3/lib/python3.9/site-packages/pandas/io/parsers/readers.py\u001b[0m in \u001b[0;36mread_csv\u001b[0;34m(filepath_or_buffer, sep, delimiter, header, names, index_col, usecols, squeeze, prefix, mangle_dupe_cols, dtype, engine, converters, true_values, false_values, skipinitialspace, skiprows, skipfooter, nrows, na_values, keep_default_na, na_filter, verbose, skip_blank_lines, parse_dates, infer_datetime_format, keep_date_col, date_parser, dayfirst, cache_dates, iterator, chunksize, compression, thousands, decimal, lineterminator, quotechar, quoting, doublequote, escapechar, comment, encoding, encoding_errors, dialect, error_bad_lines, warn_bad_lines, on_bad_lines, delim_whitespace, low_memory, memory_map, float_precision, storage_options)\u001b[0m\n\u001b[1;32m    676\u001b[0m     \u001b[0mkwds\u001b[0m\u001b[0;34m.\u001b[0m\u001b[0mupdate\u001b[0m\u001b[0;34m(\u001b[0m\u001b[0mkwds_defaults\u001b[0m\u001b[0;34m)\u001b[0m\u001b[0;34m\u001b[0m\u001b[0;34m\u001b[0m\u001b[0m\n\u001b[1;32m    677\u001b[0m \u001b[0;34m\u001b[0m\u001b[0m\n\u001b[0;32m--> 678\u001b[0;31m     \u001b[0;32mreturn\u001b[0m \u001b[0m_read\u001b[0m\u001b[0;34m(\u001b[0m\u001b[0mfilepath_or_buffer\u001b[0m\u001b[0;34m,\u001b[0m \u001b[0mkwds\u001b[0m\u001b[0;34m)\u001b[0m\u001b[0;34m\u001b[0m\u001b[0;34m\u001b[0m\u001b[0m\n\u001b[0m\u001b[1;32m    679\u001b[0m \u001b[0;34m\u001b[0m\u001b[0m\n\u001b[1;32m    680\u001b[0m \u001b[0;34m\u001b[0m\u001b[0m\n",
      "\u001b[0;32m~/anaconda3/lib/python3.9/site-packages/pandas/io/parsers/readers.py\u001b[0m in \u001b[0;36m_read\u001b[0;34m(filepath_or_buffer, kwds)\u001b[0m\n\u001b[1;32m    573\u001b[0m \u001b[0;34m\u001b[0m\u001b[0m\n\u001b[1;32m    574\u001b[0m     \u001b[0;31m# Create the parser.\u001b[0m\u001b[0;34m\u001b[0m\u001b[0;34m\u001b[0m\u001b[0m\n\u001b[0;32m--> 575\u001b[0;31m     \u001b[0mparser\u001b[0m \u001b[0;34m=\u001b[0m \u001b[0mTextFileReader\u001b[0m\u001b[0;34m(\u001b[0m\u001b[0mfilepath_or_buffer\u001b[0m\u001b[0;34m,\u001b[0m \u001b[0;34m**\u001b[0m\u001b[0mkwds\u001b[0m\u001b[0;34m)\u001b[0m\u001b[0;34m\u001b[0m\u001b[0;34m\u001b[0m\u001b[0m\n\u001b[0m\u001b[1;32m    576\u001b[0m \u001b[0;34m\u001b[0m\u001b[0m\n\u001b[1;32m    577\u001b[0m     \u001b[0;32mif\u001b[0m \u001b[0mchunksize\u001b[0m \u001b[0;32mor\u001b[0m \u001b[0miterator\u001b[0m\u001b[0;34m:\u001b[0m\u001b[0;34m\u001b[0m\u001b[0;34m\u001b[0m\u001b[0m\n",
      "\u001b[0;32m~/anaconda3/lib/python3.9/site-packages/pandas/io/parsers/readers.py\u001b[0m in \u001b[0;36m__init__\u001b[0;34m(self, f, engine, **kwds)\u001b[0m\n\u001b[1;32m    930\u001b[0m \u001b[0;34m\u001b[0m\u001b[0m\n\u001b[1;32m    931\u001b[0m         \u001b[0mself\u001b[0m\u001b[0;34m.\u001b[0m\u001b[0mhandles\u001b[0m\u001b[0;34m:\u001b[0m \u001b[0mIOHandles\u001b[0m \u001b[0;34m|\u001b[0m \u001b[0;32mNone\u001b[0m \u001b[0;34m=\u001b[0m \u001b[0;32mNone\u001b[0m\u001b[0;34m\u001b[0m\u001b[0;34m\u001b[0m\u001b[0m\n\u001b[0;32m--> 932\u001b[0;31m         \u001b[0mself\u001b[0m\u001b[0;34m.\u001b[0m\u001b[0m_engine\u001b[0m \u001b[0;34m=\u001b[0m \u001b[0mself\u001b[0m\u001b[0;34m.\u001b[0m\u001b[0m_make_engine\u001b[0m\u001b[0;34m(\u001b[0m\u001b[0mf\u001b[0m\u001b[0;34m,\u001b[0m \u001b[0mself\u001b[0m\u001b[0;34m.\u001b[0m\u001b[0mengine\u001b[0m\u001b[0;34m)\u001b[0m\u001b[0;34m\u001b[0m\u001b[0;34m\u001b[0m\u001b[0m\n\u001b[0m\u001b[1;32m    933\u001b[0m \u001b[0;34m\u001b[0m\u001b[0m\n\u001b[1;32m    934\u001b[0m     \u001b[0;32mdef\u001b[0m \u001b[0mclose\u001b[0m\u001b[0;34m(\u001b[0m\u001b[0mself\u001b[0m\u001b[0;34m)\u001b[0m\u001b[0;34m:\u001b[0m\u001b[0;34m\u001b[0m\u001b[0;34m\u001b[0m\u001b[0m\n",
      "\u001b[0;32m~/anaconda3/lib/python3.9/site-packages/pandas/io/parsers/readers.py\u001b[0m in \u001b[0;36m_make_engine\u001b[0;34m(self, f, engine)\u001b[0m\n\u001b[1;32m   1214\u001b[0m             \u001b[0;31m# \"Union[str, PathLike[str], ReadCsvBuffer[bytes], ReadCsvBuffer[str]]\"\u001b[0m\u001b[0;34m\u001b[0m\u001b[0;34m\u001b[0m\u001b[0m\n\u001b[1;32m   1215\u001b[0m             \u001b[0;31m# , \"str\", \"bool\", \"Any\", \"Any\", \"Any\", \"Any\", \"Any\"\u001b[0m\u001b[0;34m\u001b[0m\u001b[0;34m\u001b[0m\u001b[0m\n\u001b[0;32m-> 1216\u001b[0;31m             self.handles = get_handle(  # type: ignore[call-overload]\n\u001b[0m\u001b[1;32m   1217\u001b[0m                 \u001b[0mf\u001b[0m\u001b[0;34m,\u001b[0m\u001b[0;34m\u001b[0m\u001b[0;34m\u001b[0m\u001b[0m\n\u001b[1;32m   1218\u001b[0m                 \u001b[0mmode\u001b[0m\u001b[0;34m,\u001b[0m\u001b[0;34m\u001b[0m\u001b[0;34m\u001b[0m\u001b[0m\n",
      "\u001b[0;32m~/anaconda3/lib/python3.9/site-packages/pandas/io/common.py\u001b[0m in \u001b[0;36mget_handle\u001b[0;34m(path_or_buf, mode, encoding, compression, memory_map, is_text, errors, storage_options)\u001b[0m\n\u001b[1;32m    784\u001b[0m         \u001b[0;32mif\u001b[0m \u001b[0mioargs\u001b[0m\u001b[0;34m.\u001b[0m\u001b[0mencoding\u001b[0m \u001b[0;32mand\u001b[0m \u001b[0;34m\"b\"\u001b[0m \u001b[0;32mnot\u001b[0m \u001b[0;32min\u001b[0m \u001b[0mioargs\u001b[0m\u001b[0;34m.\u001b[0m\u001b[0mmode\u001b[0m\u001b[0;34m:\u001b[0m\u001b[0;34m\u001b[0m\u001b[0;34m\u001b[0m\u001b[0m\n\u001b[1;32m    785\u001b[0m             \u001b[0;31m# Encoding\u001b[0m\u001b[0;34m\u001b[0m\u001b[0;34m\u001b[0m\u001b[0m\n\u001b[0;32m--> 786\u001b[0;31m             handle = open(\n\u001b[0m\u001b[1;32m    787\u001b[0m                 \u001b[0mhandle\u001b[0m\u001b[0;34m,\u001b[0m\u001b[0;34m\u001b[0m\u001b[0;34m\u001b[0m\u001b[0m\n\u001b[1;32m    788\u001b[0m                 \u001b[0mioargs\u001b[0m\u001b[0;34m.\u001b[0m\u001b[0mmode\u001b[0m\u001b[0;34m,\u001b[0m\u001b[0;34m\u001b[0m\u001b[0;34m\u001b[0m\u001b[0m\n",
      "\u001b[0;31mFileNotFoundError\u001b[0m: [Errno 2] No such file or directory: 'monday.csv'"
     ]
    }
   ],
   "source": [
    "#read files\n",
    "monday = pd.read_csv('monday.csv', sep=';', parse_dates=True, index_col=0)\n",
    "tuesday = pd.read_csv('tuesday.csv', sep=';', parse_dates=True, index_col=0)\n",
    "wednesday = pd.read_csv('wednesday.csv', sep=';',parse_dates=True, index_col=0)\n",
    "thursday = pd.read_csv('thursday.csv', sep=';', parse_dates=True, index_col=0)\n",
    "friday = pd.read_csv('friday.csv', sep=';', parse_dates=True, index_col=0)"
   ]
  },
  {
   "cell_type": "code",
   "execution_count": null,
   "id": "054020ba",
   "metadata": {},
   "outputs": [],
   "source": [
    "monday"
   ]
  },
  {
   "cell_type": "code",
   "execution_count": null,
   "id": "82dd2834",
   "metadata": {},
   "outputs": [],
   "source": [
    "tuesday"
   ]
  },
  {
   "cell_type": "code",
   "execution_count": null,
   "id": "28d2ce8b",
   "metadata": {},
   "outputs": [],
   "source": [
    "monday[monday['customer_no'] == 1]"
   ]
  },
  {
   "cell_type": "code",
   "execution_count": null,
   "id": "ccb85192",
   "metadata": {},
   "outputs": [],
   "source": [
    "#add day column and create one dataframe with all data\n",
    "monday['day'] = 'monday'\n",
    "tuesday['day'] = 'tuesday'\n",
    "wednesday['day'] = 'wednesday'\n",
    "thursday['day'] = 'thursday'\n",
    "friday['day'] = 'friday'\n",
    "\n",
    "\n",
    "\n",
    "df =  pd.concat([monday, tuesday, wednesday, thursday, friday])\n",
    "df.sort_values('customer_no').head()"
   ]
  },
  {
   "cell_type": "code",
   "execution_count": null,
   "id": "9a6f832e",
   "metadata": {},
   "outputs": [],
   "source": [
    "#create customer id column for unique keys\n",
    "df['customer_id']= df.day + '_' + df.customer_no.astype(str)"
   ]
  },
  {
   "cell_type": "code",
   "execution_count": null,
   "id": "5ce08dca",
   "metadata": {},
   "outputs": [],
   "source": [
    "df"
   ]
  },
  {
   "cell_type": "code",
   "execution_count": null,
   "id": "3f76d7cd",
   "metadata": {},
   "outputs": [],
   "source": [
    "df[df.location=='checkout']"
   ]
  },
  {
   "cell_type": "code",
   "execution_count": null,
   "id": "904d4752",
   "metadata": {},
   "outputs": [],
   "source": [
    "#tasks : - we need to consider every minute (each minute one row!)\n",
    "# --> groupby('customer_no').resample('1Min').ffill()\n",
    "#       - not every customer left the supermarket (dairy diaries)  \n",
    "# --> checkout time = 9.59pm    \n",
    "#       - we need the transition info in the table (from where to where are cust going in probabilities)\n",
    "# --> transition matrix : a. shift(1) the location column to get the \"from\" column\n",
    "#                         b. fillna('checkout') [there is one NaN in the first row]\n",
    "#.                        c. pd.crosstab(df['from'], df['location'], normalize='index') \n",
    "#[split it if you want certain windows of time]"
   ]
  },
  {
   "cell_type": "code",
   "execution_count": null,
   "id": "6d3f4d19",
   "metadata": {
    "scrolled": true
   },
   "outputs": [],
   "source": [
    "# Get all customers\n",
    "total_customers = set(df['customer_id']) # use set-method to get a list with customers numbers\n",
    "print(\"Total customers: \", len(total_customers))"
   ]
  },
  {
   "cell_type": "code",
   "execution_count": null,
   "id": "fc4c1cb8",
   "metadata": {},
   "outputs": [],
   "source": [
    "# Display the number of customers at checkout over time\n",
    "customers_checkout = set(df.loc[df['location'] == 'checkout', 'customer_id']) # use set-method to get a list with customers numbers\n",
    "print(\"Checked out customers: \", len(customers_checkout))"
   ]
  },
  {
   "cell_type": "code",
   "execution_count": null,
   "id": "16bb8bb0",
   "metadata": {},
   "outputs": [],
   "source": [
    "# Display the number of customers that didn't checkout\n",
    "customers_no_checkout = total_customers.difference(customers_checkout) # user difference-method to get a list with the customers numbers\n",
    "print(\"Not checked out customers: \", customers_no_checkout)"
   ]
  },
  {
   "cell_type": "code",
   "execution_count": null,
   "id": "f94f577c",
   "metadata": {},
   "outputs": [],
   "source": [
    "def add_checkout(df, customer_ids):\n",
    "    for c_id in customer_ids:\n",
    "        date= df[df['customer_id']== c_id].index.day[0]\n",
    "        #c_no = df.loc[df['customer_id']== c_id, 'customer_no'].values[0]\n",
    "        day = c_id.split(\"_\")[0]\n",
    "        c_no = c_id.split(\"_\")[1]\n",
    "        df_tmp = pd.DataFrame(data=[[c_no, 'checkout', day, c_id]], index=[pd.to_datetime(f'2019-09-{date} 21:59:00')], columns=['customer_no', 'location', 'day','customer_id'])\n",
    "        df = pd.concat([df, df_tmp])\n",
    "    return df    "
   ]
  },
  {
   "cell_type": "code",
   "execution_count": null,
   "id": "504639bc",
   "metadata": {},
   "outputs": [],
   "source": [
    "len(df.customer_id.unique())"
   ]
  },
  {
   "cell_type": "code",
   "execution_count": null,
   "id": "b214979e",
   "metadata": {},
   "outputs": [],
   "source": [
    "df.sort_values('customer_id')"
   ]
  },
  {
   "cell_type": "code",
   "execution_count": null,
   "id": "ea0ebc4c",
   "metadata": {
    "scrolled": true
   },
   "outputs": [],
   "source": [
    "df[df.location=='checkout']"
   ]
  },
  {
   "cell_type": "code",
   "execution_count": null,
   "id": "473db107",
   "metadata": {},
   "outputs": [],
   "source": [
    "df"
   ]
  },
  {
   "cell_type": "code",
   "execution_count": null,
   "id": "ff64a1cd",
   "metadata": {},
   "outputs": [],
   "source": [
    "filled_data = []\n",
    "\n",
    "checkout_customers = set(df.loc[df['location'] == 'checkout', 'customer_id'])\n",
    "no_checkout_customers = list(total_customers.difference(checkout_customers))\n",
    "\n",
    "#for i in enumerate(df.customer_id):\n",
    "#checkout = \n",
    "df = add_checkout(df, no_checkout_customers)\n",
    "df.tail()\n",
    "#filled_data.append(checkout)"
   ]
  },
  {
   "cell_type": "code",
   "execution_count": null,
   "id": "f881f938",
   "metadata": {},
   "outputs": [],
   "source": [
    "# Get all customers\n",
    "total_customers = set(df['customer_id']) # use set-method to get a list with customers numbers\n",
    "print(\"Total customers: \", len(total_customers))\n",
    "# Display the number of customers at checkout over time\n",
    "customers_checkout = set(df.loc[df['location'] == 'checkout', 'customer_id']) # use set-method to get a list with customers numbers\n",
    "print(\"Checked out customers: \", len(customers_checkout))\n",
    "customers_no_checkout = total_customers.difference(customers_checkout) # user difference-method to get a list with the customers numbers\n",
    "print(\"Not checked out customers: \", customers_no_checkout)"
   ]
  },
  {
   "cell_type": "code",
   "execution_count": null,
   "id": "e08df0bd",
   "metadata": {},
   "outputs": [],
   "source": [
    "df"
   ]
  },
  {
   "cell_type": "code",
   "execution_count": null,
   "id": "2a591ae0",
   "metadata": {
    "tags": []
   },
   "outputs": [],
   "source": [
    "set(df.loc[df['location'] == 'checkout', 'customer_id'])\n"
   ]
  },
  {
   "cell_type": "code",
   "execution_count": null,
   "id": "aec271a1",
   "metadata": {},
   "outputs": [],
   "source": [
    "for i, day in enumerate(df.day):\n",
    "    print(add_checkout(day, no_checkout_customers[i], date[i], weekdays[i]))"
   ]
  },
  {
   "cell_type": "code",
   "execution_count": null,
   "id": "a9ad8033",
   "metadata": {},
   "outputs": [],
   "source": [
    "df"
   ]
  },
  {
   "cell_type": "code",
   "execution_count": null,
   "id": "086c5487",
   "metadata": {},
   "outputs": [],
   "source": [
    "# df = df.groupby('customer_no').resample('1Min').ffill()\n",
    "# df.head()"
   ]
  },
  {
   "cell_type": "code",
   "execution_count": null,
   "id": "9e810b1e",
   "metadata": {
    "scrolled": true
   },
   "outputs": [],
   "source": [
    "# IF we want to reset index\n",
    "#df.reset_index(level='timestamp', inplace= True)\n",
    "#df.drop('customer_no', axis=1, inplace=True)\n"
   ]
  },
  {
   "cell_type": "code",
   "execution_count": null,
   "id": "410dc20b",
   "metadata": {},
   "outputs": [],
   "source": [
    "#for day in days ?"
   ]
  },
  {
   "cell_type": "code",
   "execution_count": null,
   "id": "13202dab",
   "metadata": {},
   "outputs": [],
   "source": []
  },
  {
   "cell_type": "code",
   "execution_count": null,
   "id": "e76c3dd4",
   "metadata": {},
   "outputs": [],
   "source": [
    "#add 'from' column and replace \n",
    "test['from'].replace({'checkout':'entry'}, inplace = True)"
   ]
  },
  {
   "cell_type": "code",
   "execution_count": null,
   "id": "89413de9",
   "metadata": {},
   "outputs": [],
   "source": [
    "pd.crosstab(test('from'), test('location'), normalize='index')"
   ]
  }
 ],
 "metadata": {
  "kernelspec": {
   "display_name": "Python 3 (ipykernel)",
   "language": "python",
   "name": "python3"
  },
  "language_info": {
   "codemirror_mode": {
    "name": "ipython",
    "version": 3
   },
   "file_extension": ".py",
   "mimetype": "text/x-python",
   "name": "python",
   "nbconvert_exporter": "python",
   "pygments_lexer": "ipython3",
   "version": "3.9.13"
  }
 },
 "nbformat": 4,
 "nbformat_minor": 5
}
