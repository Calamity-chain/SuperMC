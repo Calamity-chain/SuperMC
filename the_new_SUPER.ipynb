{
 "cells": [
  {
   "cell_type": "code",
   "execution_count": 1,
   "id": "7da2b7a4-de44-40c7-9aac-9c258011bfe1",
   "metadata": {},
   "outputs": [],
   "source": [
    "import pandas as pd\n",
    "import numpy as np"
   ]
  },
  {
   "cell_type": "code",
   "execution_count": 2,
   "id": "04550133-06b5-465c-8e8b-c9257ee8f69e",
   "metadata": {},
   "outputs": [],
   "source": [
    "ratio          = 0.0\n",
    "customer_num   = 0\n",
    "customer_hours = pd.DataFrame"
   ]
  },
  {
   "cell_type": "code",
   "execution_count": 3,
   "id": "63219478-eb77-488a-b3a1-de6a8e2d4d33",
   "metadata": {},
   "outputs": [],
   "source": [
    " def profile():\n",
    "        '''\n",
    "        I/O: input junior and senior ratio and number of customers\n",
    "        (later adjust inpit for TM to choose given day vs ...)*\n",
    "        '''"
   ]
  },
  {
   "cell_type": "code",
   "execution_count": 4,
   "id": "023c5fc8-5420-4c99-ac8a-72b6ca0e4dbb",
   "metadata": {},
   "outputs": [
    {
     "ename": "SyntaxError",
     "evalue": "EOF while scanning triple-quoted string literal (2400746076.py, line 3)",
     "output_type": "error",
     "traceback": [
      "\u001b[0;36m  File \u001b[0;32m\"/tmp/ipykernel_6122/2400746076.py\"\u001b[0;36m, line \u001b[0;32m3\u001b[0m\n\u001b[0;31m    Reads/(later also can Creates)* TM DF as list\u001b[0m\n\u001b[0m                                                 \n^\u001b[0m\n\u001b[0;31mSyntaxError\u001b[0m\u001b[0;31m:\u001b[0m EOF while scanning triple-quoted string literal\n"
     ]
    }
   ],
   "source": [
    "def TM():\n",
    "    '''\n",
    "    Reads/(later also can Creates)* TM DF as list\n",
    "    and creates location_matrix DF"
   ]
  },
  {
   "cell_type": "code",
   "execution_count": 5,
   "id": "6ede2979-c4c7-47bc-b158-9ebd3469c2fe",
   "metadata": {},
   "outputs": [
    {
     "ename": "SyntaxError",
     "evalue": "invalid syntax (851758261.py, line 2)",
     "output_type": "error",
     "traceback": [
      "\u001b[0;36m  File \u001b[0;32m\"/tmp/ipykernel_6122/851758261.py\"\u001b[0;36m, line \u001b[0;32m2\u001b[0m\n\u001b[0;31m    def __init__(self)\u001b[0m\n\u001b[0m                      ^\u001b[0m\n\u001b[0;31mSyntaxError\u001b[0m\u001b[0;31m:\u001b[0m invalid syntax\n"
     ]
    }
   ],
   "source": [
    "class SM:\n",
    "    def __init__(self)\n",
    "        self.closing = 900\n",
    "        \n",
    "    def opening():\n",
    "        '''\n",
    "        Check the shop is still open it start from 1 to closing hours (closing). \n",
    "        If shop closed (reach to closing number 900) go to close def\n",
    "        \n",
    "        Triggers: incoming() or closing()\n",
    "        '''\n",
    "    def incoming():\n",
    "        '''\n",
    "        Calculates from customer_hours and customer_num, entering customers and send add_customers a float number \n",
    "        \n",
    "        Triggers: add_customers()\n",
    "        '''\n",
    "    def add_customers():\n",
    "        '''\n",
    "        from ratio calculates arriving senior and junior customers and changes location_matrix DF entry columns.\n",
    "        \n",
    "        Triggers: move_senior()\n",
    "        '''"
   ]
  },
  {
   "cell_type": "code",
   "execution_count": null,
   "id": "8bdd3cfe-4419-44d9-baff-4ca306b766e3",
   "metadata": {},
   "outputs": [],
   "source": [
    "class senior():\n",
    "    '''\n",
    "    Take data from translition matrix. Go every position for seniors in matrix one by one. \n",
    "    And depends on number in a cell (like there is 10 seniors at fruit section) make related transations and write moved seniors in temp_location.\n",
    "    \n",
    "    Triggers: move_junior()    \n",
    "    '''"
   ]
  },
  {
   "cell_type": "code",
   "execution_count": null,
   "id": "112f4a14-6172-469d-b560-cad341c5d5f7",
   "metadata": {},
   "outputs": [],
   "source": [
    "class junior():\n",
    "    def move_junior():    \n",
    "        '''\n",
    "        Take data from translition matrix. Go every position for juniors in matrix one by one. \n",
    "        And depends on number in a cell (like there is 10 juniors at fruit section) make related transations and write moved seniors in temp_location.\n",
    "\n",
    "        Triggers: remove_junior()    \n",
    "        '''\n",
    "    \n",
    "    def remove_junior():\n",
    "        '''\n",
    "        Check checkout parts of "
   ]
  }
 ],
 "metadata": {
  "kernelspec": {
   "display_name": "Python 3 (ipykernel)",
   "language": "python",
   "name": "python3"
  },
  "language_info": {
   "codemirror_mode": {
    "name": "ipython",
    "version": 3
   },
   "file_extension": ".py",
   "mimetype": "text/x-python",
   "name": "python",
   "nbconvert_exporter": "python",
   "pygments_lexer": "ipython3",
   "version": "3.9.13"
  }
 },
 "nbformat": 4,
 "nbformat_minor": 5
}
