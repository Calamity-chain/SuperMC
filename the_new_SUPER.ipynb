{
 "cells": [
  {
   "cell_type": "code",
   "execution_count": 1,
   "id": "7da2b7a4-de44-40c7-9aac-9c258011bfe1",
   "metadata": {},
   "outputs": [],
   "source": [
    "import pandas as pd\n",
    "import numpy as np"
   ]
  },
  {
   "cell_type": "code",
   "execution_count": null,
   "id": "28956810-ef29-41a1-941c-3aeaddbcbfa1",
   "metadata": {},
   "outputs": [],
   "source": [
    "def pick(l: list, index: int) -> int:\n",
    "    return l[index]"
   ]
  },
  {
   "cell_type": "code",
   "execution_count": 2,
   "id": "04550133-06b5-465c-8e8b-c9257ee8f69e",
   "metadata": {},
   "outputs": [],
   "source": [
    "ratio           = 0.0             #User INPUT: Senior/Senior+Junior ratio\n",
    "customer_num    = 0               #User INPUT: Number of customer that day\n",
    "customer_hours  = pd.DataFrame    #record temp_location matrix in every turn\n",
    "customer_record = pd.DataFrame    #\n",
    "time            = 0"
   ]
  },
  {
   "cell_type": "code",
   "execution_count": 3,
   "id": "63219478-eb77-488a-b3a1-de6a8e2d4d33",
   "metadata": {},
   "outputs": [],
   "source": [
    "def profile(_: nothing):\n",
    "        '''\n",
    "        I/O: input junior and senior ratio and number of customers\n",
    "        (later adjust inpit for TM to choose given day vs ...)*\n",
    "        '''\n",
    "    customer_num = input('Please enter a number of customers...')\n",
    "    ratio        = input('Please enter ratio (senior/junior+senior numbers)')\n",
    "    \n",
    "    TM()"
   ]
  },
  {
   "cell_type": "code",
   "execution_count": 4,
   "id": "023c5fc8-5420-4c99-ac8a-72b6ca0e4dbb",
   "metadata": {},
   "outputs": [
    {
     "ename": "SyntaxError",
     "evalue": "EOF while scanning triple-quoted string literal (2400746076.py, line 3)",
     "output_type": "error",
     "traceback": [
      "\u001b[0;36m  File \u001b[0;32m\"/tmp/ipykernel_6122/2400746076.py\"\u001b[0;36m, line \u001b[0;32m3\u001b[0m\n\u001b[0;31m    Reads/(later also can Creates)* TM DF as list\u001b[0m\n\u001b[0m                                                 \n^\u001b[0m\n\u001b[0;31mSyntaxError\u001b[0m\u001b[0;31m:\u001b[0m EOF while scanning triple-quoted string literal\n"
     ]
    }
   ],
   "source": [
    "def TM():\n",
    "    '''\n",
    "    Reads/(later also can Creates)* TM DF as list\n",
    "    and creates location_matrix DF\n",
    "    '''\n",
    "    \n",
    "    f"
   ]
  },
  {
   "cell_type": "code",
   "execution_count": 5,
   "id": "6ede2979-c4c7-47bc-b158-9ebd3469c2fe",
   "metadata": {},
   "outputs": [
    {
     "ename": "SyntaxError",
     "evalue": "invalid syntax (851758261.py, line 2)",
     "output_type": "error",
     "traceback": [
      "\u001b[0;36m  File \u001b[0;32m\"/tmp/ipykernel_6122/851758261.py\"\u001b[0;36m, line \u001b[0;32m2\u001b[0m\n\u001b[0;31m    def __init__(self)\u001b[0m\n\u001b[0m                      ^\u001b[0m\n\u001b[0;31mSyntaxError\u001b[0m\u001b[0;31m:\u001b[0m invalid syntax\n"
     ]
    }
   ],
   "source": [
    "class SM:\n",
    "    def __init__(self, closing=900)\n",
    "        self.closing = closing # 900minutes(15h), 900 steps.\n",
    "        \n",
    "    def opening():\n",
    "        '''\n",
    "        Check the shop is still open it start from 1 to closing hours (closing). \n",
    "        \n",
    "        If shop closed (reach to closing number 900) go to close def\n",
    "        Triggers: incoming() or closing()\n",
    "        '''\n",
    "        while time <= 900:\n",
    "        closing()\n",
    "            \n",
    "    def incoming():\n",
    "        '''\n",
    "        Calculates from customer_hours and customer_num, entering customers and send add_customers a float number \n",
    "        \n",
    "        Triggers: add_customers()\n",
    "        '''\n",
    "    def add_customers():\n",
    "        '''\n",
    "        from ratio calculates arriving senior and junior customers and changes location_matrix DF entry columns.\n",
    "        \n",
    "        Triggers: move_senior()\n",
    "        '''\n",
    "    def record():\n",
    "        '''\n",
    "        records temp_location matrix on the right sight of customer_records DF.\n",
    "        \n",
    "        Triggers: remove_customers()\n",
    "        '''\n",
    "    def remove_customers():\n",
    "        '''\n",
    "        removes junior and senior customers from temp_location DF.\n",
    "        And copy temp_location DF to location_matrix to update new positions\n",
    "        \n",
    "        Triggers: opening()\n",
    "        '''\n",
    "    def closing():\n",
    "        '''\n",
    "        As the name suggests. last calculations if its needed to order the gathered data.\n",
    "        '''"
   ]
  },
  {
   "cell_type": "code",
   "execution_count": null,
   "id": "8bdd3cfe-4419-44d9-baff-4ca306b766e3",
   "metadata": {},
   "outputs": [],
   "source": [
    "class senior():\n",
    "    def move_junior():   \n",
    "        '''\n",
    "        Take data from translition matrix. Go every position for seniors in matrix one by one. \n",
    "        And depends on number in a cell (like there is 10 seniors at fruit section) make related transations and write moved seniors in temp_location.\n",
    "\n",
    "        Triggers: move_junior()    \n",
    "        '''"
   ]
  },
  {
   "cell_type": "code",
   "execution_count": null,
   "id": "112f4a14-6172-469d-b560-cad341c5d5f7",
   "metadata": {},
   "outputs": [],
   "source": [
    "class junior():\n",
    "    def move_junior():    \n",
    "        '''\n",
    "        Take data from translition matrix. Go every position for juniors in matrix one by one. \n",
    "        And depends on number in a cell (like there is 10 juniors at fruit section) make related transations and write moved seniors in temp_location.\n",
    "\n",
    "        Triggers: record()    \n",
    "        '''"
   ]
  }
 ],
 "metadata": {
  "kernelspec": {
   "display_name": "Python 3 (ipykernel)",
   "language": "python",
   "name": "python3"
  },
  "language_info": {
   "codemirror_mode": {
    "name": "ipython",
    "version": 3
   },
   "file_extension": ".py",
   "mimetype": "text/x-python",
   "name": "python",
   "nbconvert_exporter": "python",
   "pygments_lexer": "ipython3",
   "version": "3.9.13"
  }
 },
 "nbformat": 4,
 "nbformat_minor": 5
}
