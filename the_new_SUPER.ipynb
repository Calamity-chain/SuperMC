{
 "cells": [
  {
   "cell_type": "code",
   "execution_count": 1,
   "id": "7da2b7a4-de44-40c7-9aac-9c258011bfe1",
   "metadata": {},
   "outputs": [],
   "source": [
    "import pandas as pd\n",
    "import numpy as np"
   ]
  },
  {
   "cell_type": "code",
   "execution_count": 2,
   "id": "28956810-ef29-41a1-941c-3aeaddbcbfa1",
   "metadata": {},
   "outputs": [],
   "source": [
    "def pick(l: list, index: int) -> int:\n",
    "    return l[index]"
   ]
  },
  {
   "cell_type": "code",
   "execution_count": 3,
   "id": "04550133-06b5-465c-8e8b-c9257ee8f69e",
   "metadata": {},
   "outputs": [],
   "source": [
    "#this keeps number of senior and juniors at sections\n",
    "location_matrix = pd.DataFrame(columns=['senior', 'junior'], index=['dairy','drinks','fruit','spices','entry'])\n",
    "\n",
    "#this keeps new number for locations\n",
    "temp_location   = pd.DataFrame(columns=['senior', 'junior'], index=['dairy','drinks','fruit','spices','entry'])\n",
    "\n",
    "#User INPUT: Senior/Senior+Junior ratio\n",
    "ratio           = 0.0 \n",
    "\n",
    "#User INPUT: Number of customer that day\n",
    "customer_num    = 0        \n",
    "\n",
    "#it give numer of visitor depending on user input customer number and visitor distribution over time (DF) \n",
    "visiting_hours  = pd.DataFrame    \n",
    "\n",
    "#Before temp location is overwritten, it written in this data frame every turn\n",
    "customer_record = pd.DataFrame(columns=['senior', 'junior'], index=['dairy','drinks','fruit','spices','entry']) \n",
    "\n",
    "#time in run\n",
    "time            = 0   \n",
    "\n",
    "#List for create TMs in. First:Senior, Second:Junior\n",
    "tm_list         = []              "
   ]
  },
  {
   "cell_type": "code",
   "execution_count": 5,
   "id": "63219478-eb77-488a-b3a1-de6a8e2d4d33",
   "metadata": {},
   "outputs": [
    {
     "ename": "IndentationError",
     "evalue": "unindent does not match any outer indentation level (<tokenize>, line 6)",
     "output_type": "error",
     "traceback": [
      "\u001b[0;36m  File \u001b[0;32m\"<tokenize>\"\u001b[0;36m, line \u001b[0;32m6\u001b[0m\n\u001b[0;31m    customer_num = input('Please enter a number of customers...')\u001b[0m\n\u001b[0m    ^\u001b[0m\n\u001b[0;31mIndentationError\u001b[0m\u001b[0;31m:\u001b[0m unindent does not match any outer indentation level\n"
     ]
    }
   ],
   "source": [
    "def profile(_: nothing):\n",
    "        '''\n",
    "        I/O: input junior and senior ratio and number of customers\n",
    "        (later adjust inpit for TM to choose given day vs ...)*\n",
    "        '''\n",
    "    customer_num = input('Please enter a number of customers...')\n",
    "    ratio        = input('Please enter ratio (senior/junior+senior numbers)')\n",
    "    \n",
    "    TM()"
   ]
  },
  {
   "cell_type": "code",
   "execution_count": null,
   "id": "023c5fc8-5420-4c99-ac8a-72b6ca0e4dbb",
   "metadata": {},
   "outputs": [],
   "source": [
    "def TM():\n",
    "    '''\n",
    "    Reads/(later also can Creates)* TM DF as list\n",
    "    and creates location_matrix DF\n",
    "    \n",
    "    Triggers: opening()\n",
    "    '''\n",
    "    for filename in glob.glob('data/tm/*.csv'):\n",
    "        data = pd.read_csv(filename)\n",
    "        tm_list.append(data)\n",
    "    \n",
    "    \n",
    "    opening()"
   ]
  },
  {
   "cell_type": "code",
   "execution_count": null,
   "id": "6ede2979-c4c7-47bc-b158-9ebd3469c2fe",
   "metadata": {},
   "outputs": [],
   "source": [
    "class SM:\n",
    "    def __init__(self, closing=900)\n",
    "        self.closing = closing # 900minutes(15h), 900 steps.\n",
    "        \n",
    "    def opening():\n",
    "        '''\n",
    "        Check the shop is still open it start from 1 to closing hours (closing). \n",
    "        \n",
    "        If shop closed (reach to closing number 900) go to close def\n",
    "        Triggers: incoming() or closing()\n",
    "        '''\n",
    "        while time <= self.closing:\n",
    "            time += 1\n",
    "            incoming()\n",
    "        closing()\n",
    "            \n",
    "    def incoming():\n",
    "        '''\n",
    "        Calculates from visiting_hours and customer_num, entering customers and send add_customers a float number \n",
    "        \n",
    "        Triggers: add_customers()\n",
    "        '''\n",
    "        \n",
    "    def add_seniors(entering_customers):\n",
    "        '''\n",
    "        from ratio calculates arriving senior and junior customers and changes location_matrix DF entry columns.\n",
    "        \n",
    "        Triggers: move_senior()\n",
    "        '''\n",
    "        senior_num = round(entering_customers * ratio)\n",
    "        junior_num = entering_customers - senior_num\n",
    "        \n",
    "        location_matrix['senior'].loc['entry'] = senior_num\n",
    "        location_matrix['junior'].loc['entry'] = junior_num\n",
    "        \n",
    "        move_junior()\n",
    "        \n",
    "    def record():\n",
    "        '''\n",
    "        records temp_location matrix on the right sight of customer_records DF.\n",
    "        \n",
    "        Triggers: remove_customers()\n",
    "        '''\n",
    "    def remove_customers():\n",
    "        '''\n",
    "        And copy temp_location DF to location_matrix to update new positions\n",
    "        removes all customers from temp_location DF.\n",
    "        \n",
    "        Triggers: opening()\n",
    "        '''\n",
    "    def closing():\n",
    "        '''\n",
    "        As the name suggests. last calculations if its needed to order the gathered data.\n",
    "        '''"
   ]
  },
  {
   "cell_type": "code",
   "execution_count": null,
   "id": "8bdd3cfe-4419-44d9-baff-4ca306b766e3",
   "metadata": {},
   "outputs": [],
   "source": [
    "class senior():\n",
    "    def move_junior():   \n",
    "        '''\n",
    "        Take data from translition matrix. Go every position for seniors in matrix one by one. \n",
    "        And depends on number in a cell (like there is 10 seniors at fruit section) make related transations and write moved seniors in temp_location.\n",
    "\n",
    "        Triggers: move_junior()    \n",
    "        '''\n",
    "        \n",
    "        \n",
    "        \n",
    "        \n",
    "        for i, _ in enumerate(range(5)):\n",
    "            tm_df = tm_list[0].loc[i]                                                    # Get related cell in tm matix first column is senior in tm_list. Choose section in row in order of:('dairy','drinks','fruit','spices','entry')\n",
    "            for k in range(location_matrix.iloc[i][0].values):\n",
    "                np.random.choice([-4, -1, 0, 1, 4], p=[0.1, 0.3, 0.2, 0.2, 0.2])\n",
    "            print(i)\n",
    "        #return np.random.choice([-4, -1, 0, 1, 4], p=[0.1, 0.3, 0.2, 0.2, 0.2])"
   ]
  },
  {
   "cell_type": "code",
   "execution_count": null,
   "id": "112f4a14-6172-469d-b560-cad341c5d5f7",
   "metadata": {},
   "outputs": [],
   "source": [
    "class junior():\n",
    "    def move_junior():    \n",
    "        '''\n",
    "        Take data from translition matrix. Go every position for juniors in matrix one by one. \n",
    "        And depends on number in a cell (like there is 10 juniors at fruit section) make related transations and write moved seniors in temp_location.\n",
    "\n",
    "        Triggers: record()    \n",
    "        '''"
   ]
  },
  {
   "cell_type": "markdown",
   "id": "580a79a5-629a-4d46-811d-82bb2b266c80",
   "metadata": {},
   "source": [
    "# GARBAGE"
   ]
  },
  {
   "cell_type": "code",
   "execution_count": 12,
   "id": "624cdcb3-ec2e-4575-a582-b2c33b085881",
   "metadata": {},
   "outputs": [
    {
     "name": "stdout",
     "output_type": "stream",
     "text": [
      "0\n",
      "1\n",
      "2\n",
      "3\n",
      "4\n",
      "5\n"
     ]
    }
   ],
   "source": [
    "for i, _ in enumerate(range(5)):\n",
    "    tm_list[0].loc[i][0]     #second is senior in tm_list\n",
    "    print(i)"
   ]
  },
  {
   "cell_type": "code",
   "execution_count": null,
   "id": "394ad9f2-0e66-480e-8c86-b97c87116f4e",
   "metadata": {},
   "outputs": [],
   "source": []
  }
 ],
 "metadata": {
  "kernelspec": {
   "display_name": "Python 3 (ipykernel)",
   "language": "python",
   "name": "python3"
  },
  "language_info": {
   "codemirror_mode": {
    "name": "ipython",
    "version": 3
   },
   "file_extension": ".py",
   "mimetype": "text/x-python",
   "name": "python",
   "nbconvert_exporter": "python",
   "pygments_lexer": "ipython3",
   "version": "3.9.13"
  }
 },
 "nbformat": 4,
 "nbformat_minor": 5
}
