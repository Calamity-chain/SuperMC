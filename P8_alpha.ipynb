{
 "cells": [
  {
   "cell_type": "code",
   "execution_count": 10,
   "id": "ea6d1af0-2bb1-4bb1-a939-1a8b9f053fa6",
   "metadata": {},
   "outputs": [],
   "source": [
    "import pandas as pd\n",
    "import numpy as np"
   ]
  },
  {
   "cell_type": "code",
   "execution_count": 68,
   "id": "1cab755b-3b7f-4e84-94ac-a92e5a7cd513",
   "metadata": {},
   "outputs": [],
   "source": [
    "main_df = pd.read_csv('/home/elendar/spicy/binomial-baharat-encounter-notes/week08/data/tuesday.csv', sep=';', parse_dates=True, index_col=0)\n",
    "df = main_df.copy()"
   ]
  },
  {
   "cell_type": "code",
   "execution_count": 69,
   "id": "da2bdcaa-a0c4-4a5c-b3c3-7872f9b2445e",
   "metadata": {},
   "outputs": [
    {
     "data": {
      "text/html": [
       "<div>\n",
       "<style scoped>\n",
       "    .dataframe tbody tr th:only-of-type {\n",
       "        vertical-align: middle;\n",
       "    }\n",
       "\n",
       "    .dataframe tbody tr th {\n",
       "        vertical-align: top;\n",
       "    }\n",
       "\n",
       "    .dataframe thead th {\n",
       "        text-align: right;\n",
       "    }\n",
       "</style>\n",
       "<table border=\"1\" class=\"dataframe\">\n",
       "  <thead>\n",
       "    <tr style=\"text-align: right;\">\n",
       "      <th></th>\n",
       "      <th>customer_no</th>\n",
       "      <th>location</th>\n",
       "    </tr>\n",
       "    <tr>\n",
       "      <th>timestamp</th>\n",
       "      <th></th>\n",
       "      <th></th>\n",
       "    </tr>\n",
       "  </thead>\n",
       "  <tbody>\n",
       "    <tr>\n",
       "      <th>2019-09-03 07:02:00</th>\n",
       "      <td>1</td>\n",
       "      <td>fruit</td>\n",
       "    </tr>\n",
       "    <tr>\n",
       "      <th>2019-09-03 07:02:00</th>\n",
       "      <td>2</td>\n",
       "      <td>drinks</td>\n",
       "    </tr>\n",
       "    <tr>\n",
       "      <th>2019-09-03 07:03:00</th>\n",
       "      <td>3</td>\n",
       "      <td>dairy</td>\n",
       "    </tr>\n",
       "    <tr>\n",
       "      <th>2019-09-03 07:05:00</th>\n",
       "      <td>1</td>\n",
       "      <td>drinks</td>\n",
       "    </tr>\n",
       "    <tr>\n",
       "      <th>2019-09-03 07:06:00</th>\n",
       "      <td>4</td>\n",
       "      <td>dairy</td>\n",
       "    </tr>\n",
       "    <tr>\n",
       "      <th>2019-09-03 07:06:00</th>\n",
       "      <td>5</td>\n",
       "      <td>dairy</td>\n",
       "    </tr>\n",
       "    <tr>\n",
       "      <th>2019-09-03 07:07:00</th>\n",
       "      <td>6</td>\n",
       "      <td>dairy</td>\n",
       "    </tr>\n",
       "    <tr>\n",
       "      <th>2019-09-03 07:07:00</th>\n",
       "      <td>7</td>\n",
       "      <td>dairy</td>\n",
       "    </tr>\n",
       "    <tr>\n",
       "      <th>2019-09-03 07:07:00</th>\n",
       "      <td>8</td>\n",
       "      <td>dairy</td>\n",
       "    </tr>\n",
       "    <tr>\n",
       "      <th>2019-09-03 07:08:00</th>\n",
       "      <td>4</td>\n",
       "      <td>spices</td>\n",
       "    </tr>\n",
       "  </tbody>\n",
       "</table>\n",
       "</div>"
      ],
      "text/plain": [
       "                     customer_no location\n",
       "timestamp                                \n",
       "2019-09-03 07:02:00            1    fruit\n",
       "2019-09-03 07:02:00            2   drinks\n",
       "2019-09-03 07:03:00            3    dairy\n",
       "2019-09-03 07:05:00            1   drinks\n",
       "2019-09-03 07:06:00            4    dairy\n",
       "2019-09-03 07:06:00            5    dairy\n",
       "2019-09-03 07:07:00            6    dairy\n",
       "2019-09-03 07:07:00            7    dairy\n",
       "2019-09-03 07:07:00            8    dairy\n",
       "2019-09-03 07:08:00            4   spices"
      ]
     },
     "execution_count": 69,
     "metadata": {},
     "output_type": "execute_result"
    }
   ],
   "source": [
    "df.head(10)"
   ]
  },
  {
   "cell_type": "markdown",
   "id": "ec97dd2b-1df2-44af-8ae8-53759dcfc3f9",
   "metadata": {},
   "source": [
    "df.groupby('customer_no')."
   ]
  },
  {
   "cell_type": "markdown",
   "id": "16a334db-34d3-4115-8027-e1ee3d6c7560",
   "metadata": {},
   "source": [
    "df.groupby('customer_no').first()"
   ]
  },
  {
   "cell_type": "code",
   "execution_count": 70,
   "id": "c85922b4-6ab2-47ae-9585-46194fe74dd2",
   "metadata": {},
   "outputs": [],
   "source": [
    "df=df.groupby('customer_no').resample('1Min').ffill()"
   ]
  },
  {
   "cell_type": "code",
   "execution_count": 71,
   "id": "149c0219-cabe-474c-a1e0-9206c8e2452b",
   "metadata": {
    "tags": []
   },
   "outputs": [],
   "source": [
    "df = df.drop(columns=['customer_no'])\n"
   ]
  },
  {
   "cell_type": "code",
   "execution_count": 72,
   "id": "cf4facf5-f7b2-4422-8715-d5d06602c28a",
   "metadata": {},
   "outputs": [],
   "source": [
    "df.reset_index(inplace=True)"
   ]
  },
  {
   "cell_type": "code",
   "execution_count": 73,
   "id": "09ee22a9-03dc-42ed-af6a-0bdf2ed31d58",
   "metadata": {},
   "outputs": [
    {
     "data": {
      "text/html": [
       "<div>\n",
       "<style scoped>\n",
       "    .dataframe tbody tr th:only-of-type {\n",
       "        vertical-align: middle;\n",
       "    }\n",
       "\n",
       "    .dataframe tbody tr th {\n",
       "        vertical-align: top;\n",
       "    }\n",
       "\n",
       "    .dataframe thead th {\n",
       "        text-align: right;\n",
       "    }\n",
       "</style>\n",
       "<table border=\"1\" class=\"dataframe\">\n",
       "  <thead>\n",
       "    <tr style=\"text-align: right;\">\n",
       "      <th></th>\n",
       "      <th>customer_no</th>\n",
       "      <th>timestamp</th>\n",
       "      <th>location</th>\n",
       "    </tr>\n",
       "  </thead>\n",
       "  <tbody>\n",
       "    <tr>\n",
       "      <th>0</th>\n",
       "      <td>1</td>\n",
       "      <td>2019-09-03 07:02:00</td>\n",
       "      <td>fruit</td>\n",
       "    </tr>\n",
       "    <tr>\n",
       "      <th>1</th>\n",
       "      <td>1</td>\n",
       "      <td>2019-09-03 07:03:00</td>\n",
       "      <td>fruit</td>\n",
       "    </tr>\n",
       "    <tr>\n",
       "      <th>2</th>\n",
       "      <td>1</td>\n",
       "      <td>2019-09-03 07:04:00</td>\n",
       "      <td>fruit</td>\n",
       "    </tr>\n",
       "    <tr>\n",
       "      <th>3</th>\n",
       "      <td>1</td>\n",
       "      <td>2019-09-03 07:05:00</td>\n",
       "      <td>drinks</td>\n",
       "    </tr>\n",
       "    <tr>\n",
       "      <th>4</th>\n",
       "      <td>1</td>\n",
       "      <td>2019-09-03 07:06:00</td>\n",
       "      <td>drinks</td>\n",
       "    </tr>\n",
       "    <tr>\n",
       "      <th>5</th>\n",
       "      <td>1</td>\n",
       "      <td>2019-09-03 07:07:00</td>\n",
       "      <td>drinks</td>\n",
       "    </tr>\n",
       "    <tr>\n",
       "      <th>6</th>\n",
       "      <td>1</td>\n",
       "      <td>2019-09-03 07:08:00</td>\n",
       "      <td>drinks</td>\n",
       "    </tr>\n",
       "    <tr>\n",
       "      <th>7</th>\n",
       "      <td>1</td>\n",
       "      <td>2019-09-03 07:09:00</td>\n",
       "      <td>drinks</td>\n",
       "    </tr>\n",
       "    <tr>\n",
       "      <th>8</th>\n",
       "      <td>1</td>\n",
       "      <td>2019-09-03 07:10:00</td>\n",
       "      <td>drinks</td>\n",
       "    </tr>\n",
       "    <tr>\n",
       "      <th>9</th>\n",
       "      <td>1</td>\n",
       "      <td>2019-09-03 07:11:00</td>\n",
       "      <td>drinks</td>\n",
       "    </tr>\n",
       "    <tr>\n",
       "      <th>10</th>\n",
       "      <td>1</td>\n",
       "      <td>2019-09-03 07:12:00</td>\n",
       "      <td>checkout</td>\n",
       "    </tr>\n",
       "  </tbody>\n",
       "</table>\n",
       "</div>"
      ],
      "text/plain": [
       "    customer_no           timestamp  location\n",
       "0             1 2019-09-03 07:02:00     fruit\n",
       "1             1 2019-09-03 07:03:00     fruit\n",
       "2             1 2019-09-03 07:04:00     fruit\n",
       "3             1 2019-09-03 07:05:00    drinks\n",
       "4             1 2019-09-03 07:06:00    drinks\n",
       "5             1 2019-09-03 07:07:00    drinks\n",
       "6             1 2019-09-03 07:08:00    drinks\n",
       "7             1 2019-09-03 07:09:00    drinks\n",
       "8             1 2019-09-03 07:10:00    drinks\n",
       "9             1 2019-09-03 07:11:00    drinks\n",
       "10            1 2019-09-03 07:12:00  checkout"
      ]
     },
     "execution_count": 73,
     "metadata": {},
     "output_type": "execute_result"
    }
   ],
   "source": [
    "df.loc[df['customer_no']==1]"
   ]
  },
  {
   "cell_type": "code",
   "execution_count": 88,
   "id": "46c8d498-462a-4402-900f-101550bac3d8",
   "metadata": {},
   "outputs": [
    {
     "data": {
      "text/html": [
       "<div>\n",
       "<style scoped>\n",
       "    .dataframe tbody tr th:only-of-type {\n",
       "        vertical-align: middle;\n",
       "    }\n",
       "\n",
       "    .dataframe tbody tr th {\n",
       "        vertical-align: top;\n",
       "    }\n",
       "\n",
       "    .dataframe thead th {\n",
       "        text-align: right;\n",
       "    }\n",
       "</style>\n",
       "<table border=\"1\" class=\"dataframe\">\n",
       "  <thead>\n",
       "    <tr style=\"text-align: right;\">\n",
       "      <th></th>\n",
       "      <th>customer_no</th>\n",
       "      <th>timestamp</th>\n",
       "      <th>location</th>\n",
       "    </tr>\n",
       "  </thead>\n",
       "  <tbody>\n",
       "    <tr>\n",
       "      <th>1410</th>\n",
       "      <td>182</td>\n",
       "      <td>2019-09-03 08:32:00</td>\n",
       "      <td>dairy</td>\n",
       "    </tr>\n",
       "    <tr>\n",
       "      <th>1411</th>\n",
       "      <td>182</td>\n",
       "      <td>2019-09-03 08:33:00</td>\n",
       "      <td>dairy</td>\n",
       "    </tr>\n",
       "    <tr>\n",
       "      <th>1412</th>\n",
       "      <td>182</td>\n",
       "      <td>2019-09-03 08:34:00</td>\n",
       "      <td>spices</td>\n",
       "    </tr>\n",
       "    <tr>\n",
       "      <th>1413</th>\n",
       "      <td>182</td>\n",
       "      <td>2019-09-03 08:35:00</td>\n",
       "      <td>spices</td>\n",
       "    </tr>\n",
       "    <tr>\n",
       "      <th>1414</th>\n",
       "      <td>182</td>\n",
       "      <td>2019-09-03 08:36:00</td>\n",
       "      <td>spices</td>\n",
       "    </tr>\n",
       "    <tr>\n",
       "      <th>1415</th>\n",
       "      <td>182</td>\n",
       "      <td>2019-09-03 08:37:00</td>\n",
       "      <td>drinks</td>\n",
       "    </tr>\n",
       "    <tr>\n",
       "      <th>1416</th>\n",
       "      <td>182</td>\n",
       "      <td>2019-09-03 08:38:00</td>\n",
       "      <td>checkout</td>\n",
       "    </tr>\n",
       "  </tbody>\n",
       "</table>\n",
       "</div>"
      ],
      "text/plain": [
       "      customer_no           timestamp  location\n",
       "1410          182 2019-09-03 08:32:00     dairy\n",
       "1411          182 2019-09-03 08:33:00     dairy\n",
       "1412          182 2019-09-03 08:34:00    spices\n",
       "1413          182 2019-09-03 08:35:00    spices\n",
       "1414          182 2019-09-03 08:36:00    spices\n",
       "1415          182 2019-09-03 08:37:00    drinks\n",
       "1416          182 2019-09-03 08:38:00  checkout"
      ]
     },
     "execution_count": 88,
     "metadata": {},
     "output_type": "execute_result"
    }
   ],
   "source": [
    "df[df['customer_no']==182]"
   ]
  },
  {
   "cell_type": "code",
   "execution_count": 85,
   "id": "99029fa3-2e46-4b21-ab49-3cd4edb69a18",
   "metadata": {},
   "outputs": [
    {
     "data": {
      "text/plain": [
       "1422"
      ]
     },
     "execution_count": 85,
     "metadata": {},
     "output_type": "execute_result"
    }
   ],
   "source": [
    "df['customer_no'].max()"
   ]
  },
  {
   "cell_type": "code",
   "execution_count": 87,
   "id": "04ea925e-e122-4d87-b425-c08b70bdf421",
   "metadata": {
    "tags": []
   },
   "outputs": [
    {
     "name": "stdout",
     "output_type": "stream",
     "text": [
      "customer_no                    182\n",
      "timestamp      2019-09-03 08:33:00\n",
      "location                     dairy\n",
      "Name: 1411, dtype: object\n"
     ]
    }
   ],
   "source": [
    "for idk in range(1, df['customer_no'].max()):\n",
    "    #print(idk)\n",
    "    if df.loc[df['customer_no']==idk].iloc[-1]['location'] != 'checkout':\n",
    "        #print(df.iloc[idk]['timestamp'])\n",
    "        print(df.iloc[idk])"
   ]
  },
  {
   "cell_type": "code",
   "execution_count": 75,
   "id": "2e206353-5123-476d-8ab6-aafe3d543e6e",
   "metadata": {},
   "outputs": [],
   "source": [
    "sf=df.loc[df['customer_no']==1].iloc[-1]['location']"
   ]
  },
  {
   "cell_type": "code",
   "execution_count": 76,
   "id": "27fa13c1-b1ab-46e4-a89b-95b7e7248652",
   "metadata": {},
   "outputs": [
    {
     "data": {
      "text/plain": [
       "'checkout'"
      ]
     },
     "execution_count": 76,
     "metadata": {},
     "output_type": "execute_result"
    }
   ],
   "source": [
    "sf"
   ]
  },
  {
   "cell_type": "code",
   "execution_count": 77,
   "id": "56b84299-c1d4-4923-a135-a824d25e5260",
   "metadata": {},
   "outputs": [
    {
     "data": {
      "text/html": [
       "<div>\n",
       "<style scoped>\n",
       "    .dataframe tbody tr th:only-of-type {\n",
       "        vertical-align: middle;\n",
       "    }\n",
       "\n",
       "    .dataframe tbody tr th {\n",
       "        vertical-align: top;\n",
       "    }\n",
       "\n",
       "    .dataframe thead th {\n",
       "        text-align: right;\n",
       "    }\n",
       "</style>\n",
       "<table border=\"1\" class=\"dataframe\">\n",
       "  <thead>\n",
       "    <tr style=\"text-align: right;\">\n",
       "      <th></th>\n",
       "      <th>customer_no</th>\n",
       "      <th>timestamp</th>\n",
       "      <th>location</th>\n",
       "    </tr>\n",
       "  </thead>\n",
       "  <tbody>\n",
       "    <tr>\n",
       "      <th>0</th>\n",
       "      <td>1</td>\n",
       "      <td>2019-09-02 07:03:00</td>\n",
       "      <td>dairy</td>\n",
       "    </tr>\n",
       "    <tr>\n",
       "      <th>1</th>\n",
       "      <td>1</td>\n",
       "      <td>2019-09-02 07:04:00</td>\n",
       "      <td>dairy</td>\n",
       "    </tr>\n",
       "    <tr>\n",
       "      <th>2</th>\n",
       "      <td>1</td>\n",
       "      <td>2019-09-02 07:05:00</td>\n",
       "      <td>checkout</td>\n",
       "    </tr>\n",
       "    <tr>\n",
       "      <th>3</th>\n",
       "      <td>2</td>\n",
       "      <td>2019-09-02 07:03:00</td>\n",
       "      <td>dairy</td>\n",
       "    </tr>\n",
       "    <tr>\n",
       "      <th>4</th>\n",
       "      <td>2</td>\n",
       "      <td>2019-09-02 07:04:00</td>\n",
       "      <td>dairy</td>\n",
       "    </tr>\n",
       "    <tr>\n",
       "      <th>...</th>\n",
       "      <td>...</td>\n",
       "      <td>...</td>\n",
       "      <td>...</td>\n",
       "    </tr>\n",
       "    <tr>\n",
       "      <th>10761</th>\n",
       "      <td>1444</td>\n",
       "      <td>2019-09-02 21:49:00</td>\n",
       "      <td>checkout</td>\n",
       "    </tr>\n",
       "    <tr>\n",
       "      <th>10762</th>\n",
       "      <td>1445</td>\n",
       "      <td>2019-09-02 21:49:00</td>\n",
       "      <td>dairy</td>\n",
       "    </tr>\n",
       "    <tr>\n",
       "      <th>10763</th>\n",
       "      <td>1446</td>\n",
       "      <td>2019-09-02 21:50:00</td>\n",
       "      <td>dairy</td>\n",
       "    </tr>\n",
       "    <tr>\n",
       "      <th>10764</th>\n",
       "      <td>1447</td>\n",
       "      <td>2019-09-02 21:50:00</td>\n",
       "      <td>fruit</td>\n",
       "    </tr>\n",
       "    <tr>\n",
       "      <th>2</th>\n",
       "      <td>1</td>\n",
       "      <td>2019-09-02 07:05:00</td>\n",
       "      <td>checkout</td>\n",
       "    </tr>\n",
       "  </tbody>\n",
       "</table>\n",
       "<p>10766 rows × 3 columns</p>\n",
       "</div>"
      ],
      "text/plain": [
       "       customer_no           timestamp  location\n",
       "0                1 2019-09-02 07:03:00     dairy\n",
       "1                1 2019-09-02 07:04:00     dairy\n",
       "2                1 2019-09-02 07:05:00  checkout\n",
       "3                2 2019-09-02 07:03:00     dairy\n",
       "4                2 2019-09-02 07:04:00     dairy\n",
       "...            ...                 ...       ...\n",
       "10761         1444 2019-09-02 21:49:00  checkout\n",
       "10762         1445 2019-09-02 21:49:00     dairy\n",
       "10763         1446 2019-09-02 21:50:00     dairy\n",
       "10764         1447 2019-09-02 21:50:00     fruit\n",
       "2                1 2019-09-02 07:05:00  checkout\n",
       "\n",
       "[10766 rows x 3 columns]"
      ]
     },
     "execution_count": 77,
     "metadata": {},
     "output_type": "execute_result"
    }
   ],
   "source": [
    "df2"
   ]
  },
  {
   "cell_type": "code",
   "execution_count": 78,
   "id": "cff25ae4-1031-4682-a3f0-08f3375fb15d",
   "metadata": {},
   "outputs": [
    {
     "data": {
      "text/html": [
       "<div>\n",
       "<style scoped>\n",
       "    .dataframe tbody tr th:only-of-type {\n",
       "        vertical-align: middle;\n",
       "    }\n",
       "\n",
       "    .dataframe tbody tr th {\n",
       "        vertical-align: top;\n",
       "    }\n",
       "\n",
       "    .dataframe thead th {\n",
       "        text-align: right;\n",
       "    }\n",
       "</style>\n",
       "<table border=\"1\" class=\"dataframe\">\n",
       "  <thead>\n",
       "    <tr style=\"text-align: right;\">\n",
       "      <th></th>\n",
       "      <th>index</th>\n",
       "      <th>timestamp</th>\n",
       "      <th>location</th>\n",
       "    </tr>\n",
       "  </thead>\n",
       "  <tbody>\n",
       "    <tr>\n",
       "      <th>0</th>\n",
       "      <td>0</td>\n",
       "      <td>2019-09-03 07:02:00</td>\n",
       "      <td>fruit</td>\n",
       "    </tr>\n",
       "    <tr>\n",
       "      <th>1</th>\n",
       "      <td>1</td>\n",
       "      <td>2019-09-03 07:03:00</td>\n",
       "      <td>fruit</td>\n",
       "    </tr>\n",
       "    <tr>\n",
       "      <th>2</th>\n",
       "      <td>2</td>\n",
       "      <td>2019-09-03 07:04:00</td>\n",
       "      <td>fruit</td>\n",
       "    </tr>\n",
       "    <tr>\n",
       "      <th>3</th>\n",
       "      <td>3</td>\n",
       "      <td>2019-09-03 07:05:00</td>\n",
       "      <td>drinks</td>\n",
       "    </tr>\n",
       "    <tr>\n",
       "      <th>4</th>\n",
       "      <td>4</td>\n",
       "      <td>2019-09-03 07:06:00</td>\n",
       "      <td>drinks</td>\n",
       "    </tr>\n",
       "    <tr>\n",
       "      <th>...</th>\n",
       "      <td>...</td>\n",
       "      <td>...</td>\n",
       "      <td>...</td>\n",
       "    </tr>\n",
       "    <tr>\n",
       "      <th>10118</th>\n",
       "      <td>10118</td>\n",
       "      <td>2019-09-03 21:46:00</td>\n",
       "      <td>fruit</td>\n",
       "    </tr>\n",
       "    <tr>\n",
       "      <th>10119</th>\n",
       "      <td>10119</td>\n",
       "      <td>2019-09-03 21:47:00</td>\n",
       "      <td>drinks</td>\n",
       "    </tr>\n",
       "    <tr>\n",
       "      <th>10120</th>\n",
       "      <td>10120</td>\n",
       "      <td>2019-09-03 21:48:00</td>\n",
       "      <td>checkout</td>\n",
       "    </tr>\n",
       "    <tr>\n",
       "      <th>10121</th>\n",
       "      <td>10121</td>\n",
       "      <td>2019-09-03 21:46:00</td>\n",
       "      <td>spices</td>\n",
       "    </tr>\n",
       "    <tr>\n",
       "      <th>10122</th>\n",
       "      <td>10122</td>\n",
       "      <td>2019-09-03 21:47:00</td>\n",
       "      <td>dairy</td>\n",
       "    </tr>\n",
       "  </tbody>\n",
       "</table>\n",
       "<p>10123 rows × 3 columns</p>\n",
       "</div>"
      ],
      "text/plain": [
       "       index           timestamp  location\n",
       "0          0 2019-09-03 07:02:00     fruit\n",
       "1          1 2019-09-03 07:03:00     fruit\n",
       "2          2 2019-09-03 07:04:00     fruit\n",
       "3          3 2019-09-03 07:05:00    drinks\n",
       "4          4 2019-09-03 07:06:00    drinks\n",
       "...      ...                 ...       ...\n",
       "10118  10118 2019-09-03 21:46:00     fruit\n",
       "10119  10119 2019-09-03 21:47:00    drinks\n",
       "10120  10120 2019-09-03 21:48:00  checkout\n",
       "10121  10121 2019-09-03 21:46:00    spices\n",
       "10122  10122 2019-09-03 21:47:00     dairy\n",
       "\n",
       "[10123 rows x 3 columns]"
      ]
     },
     "execution_count": 78,
     "metadata": {},
     "output_type": "execute_result"
    }
   ],
   "source": [
    "df.drop(columns=['customer_no']).reset_index()"
   ]
  },
  {
   "cell_type": "markdown",
   "id": "fa8d8d33-086c-43f3-a36b-ee636e96d7a7",
   "metadata": {
    "tags": []
   },
   "source": [
    "for i in range(0,len(df)):\n",
    "    if df.loc(['customer_no']==1 ):\n",
    "        print(df['location'])"
   ]
  },
  {
   "cell_type": "code",
   "execution_count": null,
   "id": "3be4bb3b-e226-4b3e-af47-6c4d3704db74",
   "metadata": {},
   "outputs": [],
   "source": []
  },
  {
   "cell_type": "code",
   "execution_count": null,
   "id": "1ac5bbbc-2824-4a72-8a5e-4b4697218a64",
   "metadata": {},
   "outputs": [],
   "source": [
    "for customer in df.index:\n",
    "    print(df.loc[1])\n",
    "    "
   ]
  },
  {
   "cell_type": "code",
   "execution_count": null,
   "id": "5e256fc1-5426-44ae-9775-00d25c7d2b3f",
   "metadata": {},
   "outputs": [],
   "source": []
  }
 ],
 "metadata": {
  "kernelspec": {
   "display_name": "Python 3 (ipykernel)",
   "language": "python",
   "name": "python3"
  },
  "language_info": {
   "codemirror_mode": {
    "name": "ipython",
    "version": 3
   },
   "file_extension": ".py",
   "mimetype": "text/x-python",
   "name": "python",
   "nbconvert_exporter": "python",
   "pygments_lexer": "ipython3",
   "version": "3.9.13"
  }
 },
 "nbformat": 4,
 "nbformat_minor": 5
}
