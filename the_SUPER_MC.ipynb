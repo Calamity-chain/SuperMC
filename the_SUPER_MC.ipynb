{
 "cells": [
  {
   "cell_type": "code",
   "execution_count": null,
   "id": "893a61b8-2e27-45b4-a081-f5258923e02d",
   "metadata": {
    "jp-MarkdownHeadingCollapsed": true,
    "tags": []
   },
   "outputs": [],
   "source": [
    "class SM:\n",
    "    '''\n",
    "    init\n",
    "    time_window:           output(900, INT)                                                # Opening hours in minutes \n",
    "    n_customer:            output(random INT, 1339-1630)                                   # Amount of customer visits SM. Values, inspired from data\n",
    "    create_location :      output((n x 5)ndarray, with full of zeros)                      # Create location_matrix to update and read later\n",
    "    \n",
    "    \n",
    "    methods \n",
    "    -location_update :     input(move customer from customers classes) output:(1x5 ndrray)  \n",
    "    \n",
    "    -count_customers :  input: location matrix(ndrarray)  output(list)    calculate location matrix to numbers ()\n",
    "    \n",
    "    -remove_customers:       \n",
    "    remove and count the check-out custemers (maybe later add individual timers)*\n",
    "    \n",
    "    '''"
   ]
  },
  {
   "cell_type": "code",
   "execution_count": null,
   "id": "c53e8abc-11e8-4d6b-af0c-afc0d9f43b6e",
   "metadata": {},
   "outputs": [],
   "source": [
    "class senior_customers:\n",
    "        '''\n",
    "     Senior customers that moves through the supermarket in a MCMC simulation\n",
    "    \n",
    "    init:__\n",
    "    customer_profile: np.random.random (give a parameter to update TM)\n",
    "    customer_ID:                                               output(create unique number for ID, INT)\n",
    "    (customer_name:)                                           output(randomized, STR)\n",
    "    customer_start_lococation:            input(TM_customuize) output(1x5 ndarray)\n",
    "    \n",
    "    methods:__\n",
    "    add_customer:                         input(n_customer_senior) output(cust.TM, ID, start_point)\n",
    "    move_customer                         input(location, TM_customized) output(to location_update, 1x5 ndarray)\n",
    "    \n",
    "        '''\n",
    "    "
   ]
  },
  {
   "cell_type": "code",
   "execution_count": null,
   "id": "8b39a072-872c-44cf-b6a4-e33cf151f8be",
   "metadata": {},
   "outputs": [],
   "source": [
    "class junior_customer:\n",
    "        '''\n",
    "    Junior customers that moves through the supermarket in a MCMC simulation\n",
    "    \n",
    "    init:__\n",
    "    customer_profile: np.random.random (give a parameter to update TM)\n",
    "    customer_ID:                                               output(create unique number for ID, INT)\n",
    "    (customer_name:)                                           output(randomized, STR)\n",
    "    customer_start_lococation:            input(TM_customuize) output(1x5 ndarray)\n",
    "    \n",
    "    methods:__\n",
    "    -----add_customer:                         input(n_customer_senior) output(cust.TM, ID, start_point)\n",
    "    move_customer                         input(location, TM_customized) output(to location_update, 1x5 ndarray)\n",
    "    \n",
    "        '''"
   ]
  }
 ],
 "metadata": {
  "kernelspec": {
   "display_name": "Python 3 (ipykernel)",
   "language": "python",
   "name": "python3"
  },
  "language_info": {
   "codemirror_mode": {
    "name": "ipython",
    "version": 3
   },
   "file_extension": ".py",
   "mimetype": "text/x-python",
   "name": "python",
   "nbconvert_exporter": "python",
   "pygments_lexer": "ipython3",
   "version": "3.9.13"
  }
 },
 "nbformat": 4,
 "nbformat_minor": 5
}
