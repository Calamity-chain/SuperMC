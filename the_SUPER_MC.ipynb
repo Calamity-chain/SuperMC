{
 "cells": [
  {
   "cell_type": "code",
   "execution_count": null,
   "id": "893a61b8-2e27-45b4-a081-f5258923e02d",
   "metadata": {
    "jp-MarkdownHeadingCollapsed": true,
    "tags": []
   },
   "outputs": [],
   "source": [
    "class SM:\n",
    "    '''\n",
    "    init\n",
    "    n_customer:       np.random.random(1400-1500) (start)\n",
    "    create_location : create a matrix (n x 5)\n",
    "    \n",
    "    \n",
    "    methods \n",
    "    -location_update :          input: (move customer) output:(1x5 ndrray) \n",
    "      location matrix \n",
    "    \n",
    "    -count_customers :  input: location matrix(ndrarray)  output(list)    calculate location matrix to numbers ()\n",
    "    \n",
    "    -remove_customers:       \n",
    "    remove and count the check-out custemers (maybe later add individual timers)*\n",
    "    \n",
    "    '''"
   ]
  },
  {
   "cell_type": "markdown",
   "id": "b8a3028f-6f54-46ca-a869-43aa8fe0bd65",
   "metadata": {},
   "source": [
    "init"
   ]
  },
  {
   "cell_type": "code",
   "execution_count": null,
   "id": "c492e61f-4eb7-463a-8faf-5b79b2ac1f8e",
   "metadata": {},
   "outputs": [],
   "source": [
    "n_customers: output random integer()"
   ]
  },
  {
   "cell_type": "code",
   "execution_count": null,
   "id": "c53e8abc-11e8-4d6b-af0c-afc0d9f43b6e",
   "metadata": {},
   "outputs": [],
   "source": [
    "class senior_customers:\n",
    "        '''\n",
    "    a single senior customer that moves through the supermarket\n",
    "    in a MCMC simulation\n",
    "    \n",
    "    init:__\n",
    "    customer_profile: np.random.random (give a parameter to update TM)\n",
    "    customer_ID:\n",
    "    (customer_name:)*\n",
    "        '''\n",
    "    "
   ]
  },
  {
   "cell_type": "code",
   "execution_count": null,
   "id": "8b39a072-872c-44cf-b6a4-e33cf151f8be",
   "metadata": {},
   "outputs": [],
   "source": [
    "    '''\n",
    "    a single senior customer that moves through the supermarket\n",
    "    in a MCMC simulation\n",
    "    \"\"\"\n",
    "    ..."
   ]
  },
  {
   "cell_type": "markdown",
   "id": "c2c797fe-318d-4bdd-b04c-f09776a79a55",
   "metadata": {},
   "source": [
    "# class junior_customers"
   ]
  },
  {
   "cell_type": "code",
   "execution_count": null,
   "id": "87331ffa-0870-4b2b-9bf8-77f890486e4f",
   "metadata": {},
   "outputs": [],
   "source": []
  }
 ],
 "metadata": {
  "kernelspec": {
   "display_name": "Python 3 (ipykernel)",
   "language": "python",
   "name": "python3"
  },
  "language_info": {
   "codemirror_mode": {
    "name": "ipython",
    "version": 3
   },
   "file_extension": ".py",
   "mimetype": "text/x-python",
   "name": "python",
   "nbconvert_exporter": "python",
   "pygments_lexer": "ipython3",
   "version": "3.9.13"
  }
 },
 "nbformat": 4,
 "nbformat_minor": 5
}
