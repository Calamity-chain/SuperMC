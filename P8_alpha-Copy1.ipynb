{
 "cells": [
  {
   "cell_type": "code",
   "execution_count": 1,
   "id": "ea6d1af0-2bb1-4bb1-a939-1a8b9f053fa6",
   "metadata": {},
   "outputs": [],
   "source": [
    "import pandas as pd\n",
    "import numpy as np"
   ]
  },
  {
   "cell_type": "code",
   "execution_count": 2,
   "id": "1cab755b-3b7f-4e84-94ac-a92e5a7cd513",
   "metadata": {
    "tags": []
   },
   "outputs": [],
   "source": [
    "monday_df    = pd.read_csv('./data/monday.csv', sep=';', parse_dates=True, index_col=0)\n",
    "tuesday_df   = pd.read_csv('./data/tuesday.csv', sep=';', parse_dates=True, index_col=0)\n",
    "wednesday_df = pd.read_csv('./data/wednesday.csv', sep=';', parse_dates=True, index_col=0)\n",
    "thusday_df   = pd.read_csv('./data/thursday.csv', sep=';', parse_dates=True, index_col=0)\n",
    "friday_df    = pd.read_csv('./data/friday.csv', sep=';', parse_dates=True, index_col=0)\n",
    "monday    = monday_df.copy()\n",
    "tuesday   = tuesday_df.copy()\n",
    "wednesday = wednesday_df.copy()\n",
    "thursday  = thusday_df.copy()\n",
    "friday    = friday_df.copy()\n",
    "monday   ['day'] ='monday'\n",
    "tuesday  ['day'] ='tuesday'\n",
    "wednesday['day'] ='wednesday'\n",
    "thursday ['day'] ='thursday'\n",
    "friday   ['day'] ='friday'\n",
    "\n",
    "days=[monday, tuesday, wednesday, thursday, friday]"
   ]
  },
  {
   "cell_type": "code",
   "execution_count": 3,
   "id": "6bb1b537-5932-47e9-9687-1ab0ce1fe9f8",
   "metadata": {},
   "outputs": [
    {
     "data": {
      "text/html": [
       "<div>\n",
       "<style scoped>\n",
       "    .dataframe tbody tr th:only-of-type {\n",
       "        vertical-align: middle;\n",
       "    }\n",
       "\n",
       "    .dataframe tbody tr th {\n",
       "        vertical-align: top;\n",
       "    }\n",
       "\n",
       "    .dataframe thead th {\n",
       "        text-align: right;\n",
       "    }\n",
       "</style>\n",
       "<table border=\"1\" class=\"dataframe\">\n",
       "  <thead>\n",
       "    <tr style=\"text-align: right;\">\n",
       "      <th></th>\n",
       "      <th>customer_no</th>\n",
       "      <th>location</th>\n",
       "    </tr>\n",
       "    <tr>\n",
       "      <th>timestamp</th>\n",
       "      <th></th>\n",
       "      <th></th>\n",
       "    </tr>\n",
       "  </thead>\n",
       "  <tbody>\n",
       "    <tr>\n",
       "      <th>2019-09-02 07:03:00</th>\n",
       "      <td>1</td>\n",
       "      <td>dairy</td>\n",
       "    </tr>\n",
       "  </tbody>\n",
       "</table>\n",
       "</div>"
      ],
      "text/plain": [
       "                     customer_no location\n",
       "timestamp                                \n",
       "2019-09-02 07:03:00            1    dairy"
      ]
     },
     "execution_count": 3,
     "metadata": {},
     "output_type": "execute_result"
    }
   ],
   "source": [
    "monday_df.head(1)"
   ]
  },
  {
   "cell_type": "code",
   "execution_count": 4,
   "id": "56c1c696-8791-42c6-9d73-ba6a42eca247",
   "metadata": {},
   "outputs": [],
   "source": [
    "def time_step(df):\n",
    "    df=df.groupby('customer_no').resample('1Min').ffill()\n",
    "    df = df.drop(columns=['customer_no'])\n",
    "    df.reset_index(inplace=True)\n",
    "    return df"
   ]
  },
  {
   "cell_type": "code",
   "execution_count": 6,
   "id": "015487ac-ab83-45cc-8c29-3bc813d1e761",
   "metadata": {},
   "outputs": [],
   "source": [
    "def to_from(df):\n",
    "    df['from'] = df['location']\n",
    "    df['to']   = df['location'].shift(1)\n",
    "    df.drop(columns='location')\n",
    "    df.fillna(value='checkout', inplace=True)"
   ]
  },
  {
   "cell_type": "code",
   "execution_count": 5,
   "id": "d18a1f47-114c-438f-8734-905a59866f64",
   "metadata": {},
   "outputs": [],
   "source": [
    "def kickout(df):\n",
    "    for idk in range(1, df['customer_no'].max()+1):\n",
    "        if df.loc[df['customer_no']==idk, 'location'].iloc[-1] != 'checkout':\n",
    "            #print(idk)\n",
    "            temp_df = df.loc[df['customer_no']==idk].iloc[-1].to_frame().T\n",
    "            temp_df.loc[temp_df['customer_no'] == idk,'location'] = 'checkout'\n",
    "            \n",
    "            #temp_df.loc[temp_df['customer_no'] == idk,'timestamp'] = '2019-09-02 07:03:00'\n",
    "            df=pd.concat([df, temp_df], ignore_index=True)"
   ]
  },
  {
   "cell_type": "code",
   "execution_count": 7,
   "id": "be04b603-8481-403d-a9c6-b30dd04d1ebe",
   "metadata": {},
   "outputs": [],
   "source": [
    "tm_list=[]\n",
    "def get_tm(df):\n",
    "    pd.crosstab(monday['to'], monday['from'], normalize='index')\n",
    "    return tm"
   ]
  },
  {
   "cell_type": "raw",
   "id": "c77eed40-11cc-43c6-95bd-a320bb8011fc",
   "metadata": {},
   "source": [
    "DOES NOT WORK. YOU SHOULD DIRECTLY to LIST by index\n",
    "for day in days:\n",
    "    day=time_step(day)"
   ]
  },
  {
   "cell_type": "code",
   "execution_count": 8,
   "id": "0482bbc5-ff65-4295-a6b8-3c3e8f994283",
   "metadata": {
    "tags": []
   },
   "outputs": [],
   "source": [
    "for i, day in enumerate(days):\n",
    "    days[i]    = time_step(day)\n",
    "    days[i]    = kickout(day)\n",
    "    days[i]    = to_from(day)\n",
    "    #tm_list[i] = get_tm(day)"
   ]
  },
  {
   "cell_type": "code",
   "execution_count": 9,
   "id": "8f19b212-8f41-4eb3-a787-93945a6c94d2",
   "metadata": {},
   "outputs": [
    {
     "data": {
      "text/html": [
       "<div>\n",
       "<style scoped>\n",
       "    .dataframe tbody tr th:only-of-type {\n",
       "        vertical-align: middle;\n",
       "    }\n",
       "\n",
       "    .dataframe tbody tr th {\n",
       "        vertical-align: top;\n",
       "    }\n",
       "\n",
       "    .dataframe thead th {\n",
       "        text-align: right;\n",
       "    }\n",
       "</style>\n",
       "<table border=\"1\" class=\"dataframe\">\n",
       "  <thead>\n",
       "    <tr style=\"text-align: right;\">\n",
       "      <th></th>\n",
       "      <th>customer_no</th>\n",
       "      <th>location</th>\n",
       "      <th>day</th>\n",
       "      <th>from</th>\n",
       "      <th>to</th>\n",
       "    </tr>\n",
       "    <tr>\n",
       "      <th>timestamp</th>\n",
       "      <th></th>\n",
       "      <th></th>\n",
       "      <th></th>\n",
       "      <th></th>\n",
       "      <th></th>\n",
       "    </tr>\n",
       "  </thead>\n",
       "  <tbody>\n",
       "    <tr>\n",
       "      <th>2019-09-02 07:03:00</th>\n",
       "      <td>1</td>\n",
       "      <td>dairy</td>\n",
       "      <td>monday</td>\n",
       "      <td>dairy</td>\n",
       "      <td>checkout</td>\n",
       "    </tr>\n",
       "    <tr>\n",
       "      <th>2019-09-02 07:03:00</th>\n",
       "      <td>2</td>\n",
       "      <td>dairy</td>\n",
       "      <td>monday</td>\n",
       "      <td>dairy</td>\n",
       "      <td>dairy</td>\n",
       "    </tr>\n",
       "    <tr>\n",
       "      <th>2019-09-02 07:04:00</th>\n",
       "      <td>3</td>\n",
       "      <td>dairy</td>\n",
       "      <td>monday</td>\n",
       "      <td>dairy</td>\n",
       "      <td>dairy</td>\n",
       "    </tr>\n",
       "    <tr>\n",
       "      <th>2019-09-02 07:04:00</th>\n",
       "      <td>4</td>\n",
       "      <td>dairy</td>\n",
       "      <td>monday</td>\n",
       "      <td>dairy</td>\n",
       "      <td>dairy</td>\n",
       "    </tr>\n",
       "    <tr>\n",
       "      <th>2019-09-02 07:04:00</th>\n",
       "      <td>5</td>\n",
       "      <td>spices</td>\n",
       "      <td>monday</td>\n",
       "      <td>spices</td>\n",
       "      <td>dairy</td>\n",
       "    </tr>\n",
       "    <tr>\n",
       "      <th>...</th>\n",
       "      <td>...</td>\n",
       "      <td>...</td>\n",
       "      <td>...</td>\n",
       "      <td>...</td>\n",
       "      <td>...</td>\n",
       "    </tr>\n",
       "    <tr>\n",
       "      <th>2019-09-02 21:49:00</th>\n",
       "      <td>1442</td>\n",
       "      <td>checkout</td>\n",
       "      <td>monday</td>\n",
       "      <td>checkout</td>\n",
       "      <td>spices</td>\n",
       "    </tr>\n",
       "    <tr>\n",
       "      <th>2019-09-02 21:49:00</th>\n",
       "      <td>1444</td>\n",
       "      <td>checkout</td>\n",
       "      <td>monday</td>\n",
       "      <td>checkout</td>\n",
       "      <td>checkout</td>\n",
       "    </tr>\n",
       "    <tr>\n",
       "      <th>2019-09-02 21:49:00</th>\n",
       "      <td>1445</td>\n",
       "      <td>dairy</td>\n",
       "      <td>monday</td>\n",
       "      <td>dairy</td>\n",
       "      <td>checkout</td>\n",
       "    </tr>\n",
       "    <tr>\n",
       "      <th>2019-09-02 21:50:00</th>\n",
       "      <td>1446</td>\n",
       "      <td>dairy</td>\n",
       "      <td>monday</td>\n",
       "      <td>dairy</td>\n",
       "      <td>dairy</td>\n",
       "    </tr>\n",
       "    <tr>\n",
       "      <th>2019-09-02 21:50:00</th>\n",
       "      <td>1447</td>\n",
       "      <td>fruit</td>\n",
       "      <td>monday</td>\n",
       "      <td>fruit</td>\n",
       "      <td>dairy</td>\n",
       "    </tr>\n",
       "  </tbody>\n",
       "</table>\n",
       "<p>4884 rows × 5 columns</p>\n",
       "</div>"
      ],
      "text/plain": [
       "                     customer_no  location     day      from        to\n",
       "timestamp                                                             \n",
       "2019-09-02 07:03:00            1     dairy  monday     dairy  checkout\n",
       "2019-09-02 07:03:00            2     dairy  monday     dairy     dairy\n",
       "2019-09-02 07:04:00            3     dairy  monday     dairy     dairy\n",
       "2019-09-02 07:04:00            4     dairy  monday     dairy     dairy\n",
       "2019-09-02 07:04:00            5    spices  monday    spices     dairy\n",
       "...                          ...       ...     ...       ...       ...\n",
       "2019-09-02 21:49:00         1442  checkout  monday  checkout    spices\n",
       "2019-09-02 21:49:00         1444  checkout  monday  checkout  checkout\n",
       "2019-09-02 21:49:00         1445     dairy  monday     dairy  checkout\n",
       "2019-09-02 21:50:00         1446     dairy  monday     dairy     dairy\n",
       "2019-09-02 21:50:00         1447     fruit  monday     fruit     dairy\n",
       "\n",
       "[4884 rows x 5 columns]"
      ]
     },
     "execution_count": 9,
     "metadata": {},
     "output_type": "execute_result"
    }
   ],
   "source": [
    "monday"
   ]
  },
  {
   "cell_type": "code",
   "execution_count": 10,
   "id": "d6ac3ba5-1aec-408b-a08e-290b52b93e4f",
   "metadata": {},
   "outputs": [
    {
     "data": {
      "text/html": [
       "<div>\n",
       "<style scoped>\n",
       "    .dataframe tbody tr th:only-of-type {\n",
       "        vertical-align: middle;\n",
       "    }\n",
       "\n",
       "    .dataframe tbody tr th {\n",
       "        vertical-align: top;\n",
       "    }\n",
       "\n",
       "    .dataframe thead th {\n",
       "        text-align: right;\n",
       "    }\n",
       "</style>\n",
       "<table border=\"1\" class=\"dataframe\">\n",
       "  <thead>\n",
       "    <tr style=\"text-align: right;\">\n",
       "      <th>from</th>\n",
       "      <th>checkout</th>\n",
       "      <th>dairy</th>\n",
       "      <th>drinks</th>\n",
       "      <th>fruit</th>\n",
       "      <th>spices</th>\n",
       "    </tr>\n",
       "    <tr>\n",
       "      <th>to</th>\n",
       "      <th></th>\n",
       "      <th></th>\n",
       "      <th></th>\n",
       "      <th></th>\n",
       "      <th></th>\n",
       "    </tr>\n",
       "  </thead>\n",
       "  <tbody>\n",
       "    <tr>\n",
       "      <th>checkout</th>\n",
       "      <td>0.336579</td>\n",
       "      <td>0.171766</td>\n",
       "      <td>0.166203</td>\n",
       "      <td>0.191238</td>\n",
       "      <td>0.134214</td>\n",
       "    </tr>\n",
       "    <tr>\n",
       "      <th>dairy</th>\n",
       "      <td>0.259218</td>\n",
       "      <td>0.188827</td>\n",
       "      <td>0.174302</td>\n",
       "      <td>0.211173</td>\n",
       "      <td>0.166480</td>\n",
       "    </tr>\n",
       "    <tr>\n",
       "      <th>drinks</th>\n",
       "      <td>0.293601</td>\n",
       "      <td>0.168130</td>\n",
       "      <td>0.165621</td>\n",
       "      <td>0.207026</td>\n",
       "      <td>0.165621</td>\n",
       "    </tr>\n",
       "    <tr>\n",
       "      <th>fruit</th>\n",
       "      <td>0.273904</td>\n",
       "      <td>0.191235</td>\n",
       "      <td>0.151394</td>\n",
       "      <td>0.223108</td>\n",
       "      <td>0.160359</td>\n",
       "    </tr>\n",
       "    <tr>\n",
       "      <th>spices</th>\n",
       "      <td>0.282667</td>\n",
       "      <td>0.204000</td>\n",
       "      <td>0.157333</td>\n",
       "      <td>0.202667</td>\n",
       "      <td>0.153333</td>\n",
       "    </tr>\n",
       "  </tbody>\n",
       "</table>\n",
       "</div>"
      ],
      "text/plain": [
       "from      checkout     dairy    drinks     fruit    spices\n",
       "to                                                        \n",
       "checkout  0.336579  0.171766  0.166203  0.191238  0.134214\n",
       "dairy     0.259218  0.188827  0.174302  0.211173  0.166480\n",
       "drinks    0.293601  0.168130  0.165621  0.207026  0.165621\n",
       "fruit     0.273904  0.191235  0.151394  0.223108  0.160359\n",
       "spices    0.282667  0.204000  0.157333  0.202667  0.153333"
      ]
     },
     "execution_count": 10,
     "metadata": {},
     "output_type": "execute_result"
    }
   ],
   "source": [
    "pd.crosstab(monday['to'], monday['from'], normalize='index')"
   ]
  },
  {
   "cell_type": "raw",
   "id": "23baaaab-6cf6-4e43-90e4-7242fb32768a",
   "metadata": {},
   "source": [
    "monday.sort_values(by='customer_no')"
   ]
  },
  {
   "cell_type": "code",
   "execution_count": 11,
   "id": "86789cde-6632-45d6-87b6-4cbb612fa0a4",
   "metadata": {},
   "outputs": [
    {
     "ename": "NameError",
     "evalue": "name 'tm' is not defined",
     "output_type": "error",
     "traceback": [
      "\u001b[0;31m---------------------------------------------------------------------------\u001b[0m",
      "\u001b[0;31mNameError\u001b[0m                                 Traceback (most recent call last)",
      "\u001b[0;32m/tmp/ipykernel_13143/1856261441.py\u001b[0m in \u001b[0;36m<module>\u001b[0;34m\u001b[0m\n\u001b[0;32m----> 1\u001b[0;31m \u001b[0mget_tm\u001b[0m\u001b[0;34m(\u001b[0m\u001b[0mmonday\u001b[0m\u001b[0;34m)\u001b[0m\u001b[0;34m\u001b[0m\u001b[0;34m\u001b[0m\u001b[0m\n\u001b[0m",
      "\u001b[0;32m/tmp/ipykernel_13143/2174576827.py\u001b[0m in \u001b[0;36mget_tm\u001b[0;34m(df)\u001b[0m\n\u001b[1;32m      2\u001b[0m \u001b[0;32mdef\u001b[0m \u001b[0mget_tm\u001b[0m\u001b[0;34m(\u001b[0m\u001b[0mdf\u001b[0m\u001b[0;34m)\u001b[0m\u001b[0;34m:\u001b[0m\u001b[0;34m\u001b[0m\u001b[0;34m\u001b[0m\u001b[0m\n\u001b[1;32m      3\u001b[0m     \u001b[0mpd\u001b[0m\u001b[0;34m.\u001b[0m\u001b[0mcrosstab\u001b[0m\u001b[0;34m(\u001b[0m\u001b[0mmonday\u001b[0m\u001b[0;34m[\u001b[0m\u001b[0;34m'to'\u001b[0m\u001b[0;34m]\u001b[0m\u001b[0;34m,\u001b[0m \u001b[0mmonday\u001b[0m\u001b[0;34m[\u001b[0m\u001b[0;34m'from'\u001b[0m\u001b[0;34m]\u001b[0m\u001b[0;34m,\u001b[0m \u001b[0mnormalize\u001b[0m\u001b[0;34m=\u001b[0m\u001b[0;34m'index'\u001b[0m\u001b[0;34m)\u001b[0m\u001b[0;34m\u001b[0m\u001b[0;34m\u001b[0m\u001b[0m\n\u001b[0;32m----> 4\u001b[0;31m     \u001b[0;32mreturn\u001b[0m \u001b[0mtm\u001b[0m\u001b[0;34m\u001b[0m\u001b[0;34m\u001b[0m\u001b[0m\n\u001b[0m",
      "\u001b[0;31mNameError\u001b[0m: name 'tm' is not defined"
     ]
    }
   ],
   "source": [
    "get_tm(monday)"
   ]
  },
  {
   "cell_type": "code",
   "execution_count": null,
   "id": "3510cf09-62c7-4c43-9eb8-0635fe9f7b8a",
   "metadata": {},
   "outputs": [],
   "source": [
    "monday"
   ]
  },
  {
   "cell_type": "code",
   "execution_count": null,
   "id": "2cef5957-7597-495a-93f6-640aeaa52a91",
   "metadata": {},
   "outputs": [],
   "source": [
    "tm=pd.crosstab(monday('from'), monday('location'), normalize='index')"
   ]
  },
  {
   "cell_type": "code",
   "execution_count": null,
   "id": "f701cc60-8334-4f1c-865f-9342f257b026",
   "metadata": {},
   "outputs": [],
   "source": [
    "get_tm(monday)\n",
    "tm_list=[]\n",
    "def get_tm(df):\n",
    "    tm=pd.crosstab(df('from'), df('location'), normalize='index')\n",
    "    return tm"
   ]
  },
  {
   "cell_type": "code",
   "execution_count": null,
   "id": "c0d87a9b-724c-4f3c-86c0-55700bff8ecf",
   "metadata": {},
   "outputs": [],
   "source": []
  },
  {
   "cell_type": "code",
   "execution_count": null,
   "id": "10fbf901-facb-41bd-926e-c605bc5c32bf",
   "metadata": {},
   "outputs": [],
   "source": []
  },
  {
   "cell_type": "code",
   "execution_count": null,
   "id": "5d0cbbf2-89b4-4d08-b0b1-177fc3da7bfc",
   "metadata": {},
   "outputs": [],
   "source": []
  }
 ],
 "metadata": {
  "kernelspec": {
   "display_name": "Python 3 (ipykernel)",
   "language": "python",
   "name": "python3"
  },
  "language_info": {
   "codemirror_mode": {
    "name": "ipython",
    "version": 3
   },
   "file_extension": ".py",
   "mimetype": "text/x-python",
   "name": "python",
   "nbconvert_exporter": "python",
   "pygments_lexer": "ipython3",
   "version": "3.9.13"
  }
 },
 "nbformat": 4,
 "nbformat_minor": 5
}
