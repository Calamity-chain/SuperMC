{
 "cells": [
  {
   "cell_type": "code",
   "execution_count": 1,
   "id": "48826c45-1286-400f-95a6-fc9badc90a17",
   "metadata": {},
   "outputs": [],
   "source": [
    "class SM:\n",
    "    def __init__(self, closing=900, time=0, visitor_per_min=2, visitor_der=1):\n",
    "        self.closing        = closing    # 900minutes(15h), 900 steps.\n",
    "        self.time           = time       # current time in a turn\n",
    "        self.total_visitors = np.random.normal(loc=visitor_per_min, scale=visitor_der, size=(0, self.time))\n",
    "\n",
    "        #this keeps number of senior and juniors at sections (time i)\n",
    "        self.location_matrix   = pd.DataFrame(columns=['senior', 'junior'], index=['dairy','drinks','fruit','spices','entry']).fillna(value=0)\n",
    "        #this keeps new number for locations (time i+1)\n",
    "        self.temp_location     = location_matrix.copy\n",
    "        #Before temp location is overwritten, it written in this data frame every turn\n",
    "        self.customer_record   = location_matrix.copy"
   ]
  },
  {
   "cell_type": "code",
   "execution_count": 3,
   "id": "809195cd-02bf-4846-bc6c-e750308c9230",
   "metadata": {},
   "outputs": [
    {
     "ename": "NameError",
     "evalue": "name 'total_visitors' is not defined",
     "output_type": "error",
     "traceback": [
      "\u001b[0;31m---------------------------------------------------------------------------\u001b[0m",
      "\u001b[0;31mNameError\u001b[0m                                 Traceback (most recent call last)",
      "\u001b[0;32m/tmp/ipykernel_10511/1870959053.py\u001b[0m in \u001b[0;36m<module>\u001b[0;34m\u001b[0m\n\u001b[0;32m----> 1\u001b[0;31m \u001b[0mtotal_visitors\u001b[0m\u001b[0;34m\u001b[0m\u001b[0;34m\u001b[0m\u001b[0m\n\u001b[0m",
      "\u001b[0;31mNameError\u001b[0m: name 'total_visitors' is not defined"
     ]
    }
   ],
   "source": [
    "total_visitors"
   ]
  },
  {
   "cell_type": "code",
   "execution_count": null,
   "id": "394b0915-9e32-4f94-84a0-0797cf73b3f6",
   "metadata": {},
   "outputs": [],
   "source": []
  }
 ],
 "metadata": {
  "kernelspec": {
   "display_name": "Python 3 (ipykernel)",
   "language": "python",
   "name": "python3"
  },
  "language_info": {
   "codemirror_mode": {
    "name": "ipython",
    "version": 3
   },
   "file_extension": ".py",
   "mimetype": "text/x-python",
   "name": "python",
   "nbconvert_exporter": "python",
   "pygments_lexer": "ipython3",
   "version": "3.9.13"
  }
 },
 "nbformat": 4,
 "nbformat_minor": 5
}
